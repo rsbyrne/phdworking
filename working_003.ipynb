{
 "cells": [
  {
   "cell_type": "code",
   "execution_count": 1,
   "metadata": {},
   "outputs": [],
   "source": [
    "import planetengine\n",
    "\n",
    "from modelscripts import MS98X_systemscript as systemscript\n",
    "from modelscripts import MS98X_observerscript as observerscript\n",
    "#from modelscripts import noisydoublephase_initialscript as initialscript\n",
    "from modelscripts import sinudoublephase_initialscript as initialscript\n",
    "\n",
    "model = planetengine.frame.Frame(\n",
    "    systemscript.build(),\n",
    "    observerscript.build(),\n",
    "    initialscript.build(),\n",
    "    )"
   ]
  }
 ],
 "metadata": {
  "kernelspec": {
   "display_name": "Python 3",
   "language": "python",
   "name": "python3"
  },
  "language_info": {
   "codemirror_mode": {
    "name": "ipython",
    "version": 3
   },
   "file_extension": ".py",
   "mimetype": "text/x-python",
   "name": "python",
   "nbconvert_exporter": "python",
   "pygments_lexer": "ipython3",
   "version": "3.5.3"
  }
 },
 "nbformat": 4,
 "nbformat_minor": 2
}
