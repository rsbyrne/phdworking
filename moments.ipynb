{
 "cells": [
  {
   "cell_type": "code",
   "execution_count": null,
   "metadata": {},
   "outputs": [],
   "source": [
    "from scipy import stats\n",
    "import planetengine\n",
    "from planetengine import frame\n",
    "from planetengine import analysis\n",
    "from planetengine import utilities\n",
    "from planetengine.utilities import quickShow\n",
    "import numpy as np\n",
    "import glucifer\n",
    "import underworld as uw\n",
    "from underworld import function as fn\n",
    "\n",
    "from pathlib import Path\n",
    "dataPath = Path()/'..'/'data'/'uwwork_earlyFeb'"
   ]
  },
  {
   "cell_type": "code",
   "execution_count": null,
   "metadata": {},
   "outputs": [],
   "source": [
    "testmod = frame.load_frame(str(dataPath/'testsuite009'))\n",
    "testmod.load_checkpoint(100000)"
   ]
  },
  {
   "cell_type": "code",
   "execution_count": null,
   "metadata": {},
   "outputs": [],
   "source": [
    "class Moments:\n",
    "\n",
    "    def __init__(field):\n",
    "\n",
    "        self.field = field\n",
    "        self.array = self.field.data\n",
    "        self.mesh = self.field.mesh\n",
    "\n",
    "        self.weights = utilities.weightVar(self.mesh).data\n",
    "        self.area = self.weights.sum()\n",
    "        self.weighted = self.array * self.weights\n",
    "\n",
    "        self.moment_0 = self.weighted.sum()\n",
    "        self.moment_1 = self.moment_0 / self.area\n",
    "        "
   ]
  }
 ],
 "metadata": {
  "kernelspec": {
   "display_name": "Python 3",
   "language": "python",
   "name": "python3"
  },
  "language_info": {
   "codemirror_mode": {
    "name": "ipython",
    "version": 3
   },
   "file_extension": ".py",
   "mimetype": "text/x-python",
   "name": "python",
   "nbconvert_exporter": "python",
   "pygments_lexer": "ipython3",
   "version": "3.5.3"
  }
 },
 "nbformat": 4,
 "nbformat_minor": 2
}
