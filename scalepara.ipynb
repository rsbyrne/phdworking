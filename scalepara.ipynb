{
 "cells": [
  {
   "cell_type": "code",
   "execution_count": null,
   "metadata": {},
   "outputs": [],
   "source": [
    "import modelscripts\n",
    "import planetengine\n",
    "\n",
    "system = modelscripts.isovisc_systemscript.build(res = 4)\n",
    "planetengine.initials.apply({'temperatureField': planetengine.initials.sinusoidal.IC(freq = 1.)}, system)\n",
    "system.solve()\n",
    "\n",
    "import numpy as np\n",
    "from mpi4py import MPI\n",
    "comm = MPI.COMM_WORLD\n",
    "rank = comm.Get_rank()\n",
    "nProcs = comm.Get_size()\n",
    "\n",
    "def get_scales(variable):\n",
    "    try:\n",
    "        array = variable.data\n",
    "    except:\n",
    "        array = variable\n",
    "    dims = array.shape[1]\n",
    "    mins = np.array([np.min(array[:, dim]) for dim in range(dims)])\n",
    "    allMins = np.min(np.array(comm.allgather(mins)), axis = 0)\n",
    "    maxs = np.array([np.max(array[:, dim]) for dim in range(dims)])\n",
    "    allMaxs = np.max(np.array(comm.allgather(maxs)), axis = 0)\n",
    "    scales = np.dstack([allMins, allMaxs])[0]\n",
    "    return scales\n",
    "\n",
    "print(get_scales(system.velocityField))"
   ]
  }
 ],
 "metadata": {
  "kernelspec": {
   "display_name": "Python 3",
   "language": "python",
   "name": "python3"
  },
  "language_info": {
   "codemirror_mode": {
    "name": "ipython",
    "version": 3
   },
   "file_extension": ".py",
   "mimetype": "text/x-python",
   "name": "python",
   "nbconvert_exporter": "python",
   "pygments_lexer": "ipython3",
   "version": "3.5.3"
  }
 },
 "nbformat": 4,
 "nbformat_minor": 2
}
