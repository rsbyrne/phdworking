{
 "cells": [
  {
   "cell_type": "code",
   "execution_count": 2,
   "metadata": {},
   "outputs": [],
   "source": [
    "import planetengine\n",
    "\n",
    "from modelscripts import MS98X_systemscript as systemscript\n",
    "from modelscripts import MS98X_observerscript as observerscript\n",
    "#from modelscripts import noisydoublephase_initialscript as initialscript\n",
    "from modelscripts import sinudoublephase_initialscript as initialscript\n",
    "\n",
    "model = planetengine.frame.Frame(\n",
    "    systemscript.build(\n",
    "        res = 64,\n",
    "        ratio = 1.,\n",
    "        aspect = 1.,\n",
    "        periodic = False,\n",
    "        creep_sR = 1.,\n",
    "        ),\n",
    "    observerscript.build(),\n",
    "    initialscript.build(\n",
    "        freq = 1.,\n",
    "        phase = 0.9,\n",
    "        cont_centre = 1.,\n",
    "        cont_width = 1.,\n",
    "        ),\n",
    "    outputPath = '../data',\n",
    "    instanceID = 'annulusSwarmBug',\n",
    "    )"
   ]
  },
  {
   "cell_type": "code",
   "execution_count": 3,
   "metadata": {},
   "outputs": [],
   "source": [
    "testobj = initialscript.build()"
   ]
  },
  {
   "cell_type": "code",
   "execution_count": 7,
   "metadata": {},
   "outputs": [
    {
     "data": {
      "text/plain": [
       "[('apply',\n",
       "  <function modelscripts.sinudoublephase_initialscript.build.<locals>.apply(system)>),\n",
       " ('cont_centre', 0.5),\n",
       " ('cont_thickness', 0.035),\n",
       " ('cont_width', 0.5),\n",
       " ('freq', 1.0),\n",
       " ('inputs',\n",
       "  {'cont_centre': 0.5,\n",
       "   'cont_thickness': 0.035,\n",
       "   'cont_width': 0.5,\n",
       "   'freq': 1.0,\n",
       "   'pert': 0.2,\n",
       "   'phase': 0.0}),\n",
       " ('pert', 0.2),\n",
       " ('phase', 0.0),\n",
       " ('script',\n",
       "  '/home/jovyan/workspace/user_data/modelscripts/sinudoublephase_initialscript.py')]"
      ]
     },
     "execution_count": 7,
     "metadata": {},
     "output_type": "execute_result"
    }
   ],
   "source": [
    "sorted(testobj.selfdict.items())"
   ]
  },
  {
   "cell_type": "code",
   "execution_count": 9,
   "metadata": {},
   "outputs": [],
   "source": [
    "varsOfState = model.system.varsOfState"
   ]
  },
  {
   "cell_type": "code",
   "execution_count": 13,
   "metadata": {},
   "outputs": [
    {
     "data": {
      "text/plain": [
       "[((('temperatureField',\n",
       "    <underworld.mesh._meshvariable.MeshVariable at 0x7f3921fe76a0>),),\n",
       "  ('mesh',\n",
       "   <underworld.mesh._spherical_mesh.FeMesh_Annulus at 0x7f38f14e8d30>)),\n",
       " ((('materialVar',\n",
       "    <underworld.swarm._swarmvariable.SwarmVariable at 0x7f393032d908>),),\n",
       "  ('swarm', <underworld.swarm._swarm.Swarm at 0x7f3921f98438>))]"
      ]
     },
     "execution_count": 13,
     "metadata": {},
     "output_type": "execute_result"
    }
   ],
   "source": [
    "varsOfState"
   ]
  },
  {
   "cell_type": "code",
   "execution_count": null,
   "metadata": {},
   "outputs": [],
   "source": [
    "varsOfState = [\n",
    "    (((\"temperatureField\", temperatureField),), (\"mesh\", mesh)),\n",
    "    (((\"materialVar\", materialVar),), (\"swarm\", swarm)),\n",
    "    ]"
   ]
  },
  {
   "cell_type": "code",
   "execution_count": null,
   "metadata": {},
   "outputs": [],
   "source": [
    "varsOfState = [(model.system.temperatureField, 'temperatureField', 'mesh'), (model.system.materialVar, 'materialVar', 'swarm')]"
   ]
  },
  {
   "cell_type": "code",
   "execution_count": 18,
   "metadata": {},
   "outputs": [
    {
     "data": {
      "text/plain": [
       "underworld.swarm._swarmvariable.SwarmVariable"
      ]
     },
     "execution_count": 18,
     "metadata": {},
     "output_type": "execute_result"
    }
   ],
   "source": [
    "type(model.system.materialVar)"
   ]
  },
  {
   "cell_type": "code",
   "execution_count": 16,
   "metadata": {},
   "outputs": [],
   "source": [
    "import underworld as uw"
   ]
  },
  {
   "cell_type": "code",
   "execution_count": 17,
   "metadata": {},
   "outputs": [
    {
     "data": {
      "text/plain": [
       "True"
      ]
     },
     "execution_count": 17,
     "metadata": {},
     "output_type": "execute_result"
    }
   ],
   "source": [
    "type(model.system.temperatureField) == uw.mesh._meshvariable.MeshVariable"
   ]
  },
  {
   "cell_type": "code",
   "execution_count": 19,
   "metadata": {},
   "outputs": [
    {
     "data": {
      "text/plain": [
       "True"
      ]
     },
     "execution_count": 19,
     "metadata": {},
     "output_type": "execute_result"
    }
   ],
   "source": [
    "type(model.system.materialVar) == uw.swarm._swarmvariable.SwarmVariable"
   ]
  },
  {
   "cell_type": "code",
   "execution_count": 20,
   "metadata": {},
   "outputs": [],
   "source": [
    "varsOfState = [\n",
    "    (model.system.temperatureField, 'temperatureField', 'mesh'),\n",
    "    (model.system.materialVar, 'materialVar', 'swarm'),\n",
    "    ]"
   ]
  },
  {
   "cell_type": "code",
   "execution_count": 25,
   "metadata": {},
   "outputs": [],
   "source": [
    "testdict = {'a': 1}"
   ]
  },
  {
   "cell_type": "code",
   "execution_count": 29,
   "metadata": {},
   "outputs": [
    {
     "data": {
      "text/plain": [
       "False"
      ]
     },
     "execution_count": 29,
     "metadata": {},
     "output_type": "execute_result"
    }
   ],
   "source": [
    "'b' in testdict"
   ]
  },
  {
   "cell_type": "code",
   "execution_count": 30,
   "metadata": {},
   "outputs": [
    {
     "data": {
      "text/plain": [
       "<underworld.mesh._spherical_mesh.FeMesh_Annulus at 0x7f38f14e8d30>"
      ]
     },
     "execution_count": 30,
     "metadata": {},
     "output_type": "execute_result"
    }
   ],
   "source": [
    "model.system.temperatureField.mesh"
   ]
  },
  {
   "cell_type": "code",
   "execution_count": 31,
   "metadata": {},
   "outputs": [
    {
     "data": {
      "text/plain": [
       "True"
      ]
     },
     "execution_count": 31,
     "metadata": {},
     "output_type": "execute_result"
    }
   ],
   "source": [
    "model.system.temperatureField.mesh == model.system.velocityField.mesh"
   ]
  },
  {
   "cell_type": "code",
   "execution_count": null,
   "metadata": {},
   "outputs": [],
   "source": [
    "def varsOnDisk(varsOfState, directory, mode = 'save', blackhole = [0., 0.])\n",
    "    substrates = []\n",
    "    substrateNames = []\n",
    "    substrateHandles = {}\n",
    "    extension = '.h5'\n",
    "    for var, varName in varsOfState:\n",
    "        if type(var) == uw.mesh._meshvariable.MeshVariable:\n",
    "            substrate = var.mesh\n",
    "            substrateName = 'mesh'\n",
    "        elif type(var) == uw.swarm._swarmvariable.SwarmVariable:\n",
    "            substrate = var.swarm\n",
    "            substrateName = 'swarm'\n",
    "        else:\n",
    "            raise Exception('Variable type not recognised.')\n",
    "        if not substrate in substrates:\n",
    "            if substrateName in substrateNames:\n",
    "                nameFound = False\n",
    "                suffix = 0\n",
    "                while not nameFound:\n",
    "                    adjustedSubstrateName = substrateName + '_' + str(suffix)\n",
    "                    if not adjustedSubstrateName in substrateNames:\n",
    "                        substrateName = adjustedSubstrateName\n",
    "                        nameFound = True\n",
    "                    else:\n",
    "                        suffix += 1\n",
    "            substrateNames.append(substrateName)\n",
    "            if mode == 'save':\n",
    "                handle = substrate.save(os.path.join(directory, substrateName + extension))\n",
    "                substrateHandles[substrateName] = handle\n",
    "            elif mode == 'load':\n",
    "                if type(substrate) == uw.swarm.Swarm:\n",
    "                    with substrate.deform_swarm():\n",
    "                        substrate.particleCoordinates.data[:] = blackhole\n",
    "                substrate.load(os.path.join(directory, substrateName + extension))\n",
    "            else:\n",
    "                raise Exception(\"Disk mode not recognised.\")\n",
    "            substrates.append(substrate)\n",
    "        else:\n",
    "            if mode == 'save':\n",
    "                handle = substrateHandles[substrateNames]\n",
    "        if mode == 'save':\n",
    "            var.save(os.path.join(directory, varName + extension), handle)\n",
    "        elif mode == 'load':\n",
    "            var.load(os.path.join(directory, varName + extension), handle)\n",
    "        else:\n",
    "            raise Exception(\"Disk mode not recognised.\")"
   ]
  },
  {
   "cell_type": "code",
   "execution_count": null,
   "metadata": {},
   "outputs": [],
   "source": [
    "def initialFn(init)"
   ]
  }
 ],
 "metadata": {
  "kernelspec": {
   "display_name": "Python 3",
   "language": "python",
   "name": "python3"
  },
  "language_info": {
   "codemirror_mode": {
    "name": "ipython",
    "version": 3
   },
   "file_extension": ".py",
   "mimetype": "text/x-python",
   "name": "python",
   "nbconvert_exporter": "python",
   "pygments_lexer": "ipython3",
   "version": "3.5.3"
  }
 },
 "nbformat": 4,
 "nbformat_minor": 2
}
