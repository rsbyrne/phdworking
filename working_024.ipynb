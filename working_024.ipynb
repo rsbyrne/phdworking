{
 "cells": [
  {
   "cell_type": "code",
   "execution_count": null,
   "metadata": {},
   "outputs": [],
   "source": [
    "import sys\n",
    "sys.path.append('..')"
   ]
  },
  {
   "cell_type": "code",
   "execution_count": 2,
   "metadata": {},
   "outputs": [],
   "source": [
    "import planetengine\n",
    "import modelscripts"
   ]
  },
  {
   "cell_type": "code",
   "execution_count": 3,
   "metadata": {},
   "outputs": [],
   "source": [
    "initial = {\n",
    "    'temperatureField': {'IC': planetengine.initials.sinusoidal.IC()},\n",
    "    'materialVar': {'IC': planetengine.initials.extents.IC(([1], planetengine.shapes.trapezoid()))}\n",
    "    }"
   ]
  },
  {
   "cell_type": "code",
   "execution_count": 4,
   "metadata": {},
   "outputs": [],
   "source": [
    "system = modelscripts.MS98X_systemscript.build(res = 64, f = 0.5, tau = 1e5)"
   ]
  },
  {
   "cell_type": "code",
   "execution_count": 5,
   "metadata": {},
   "outputs": [],
   "source": [
    "planetengine.initials.apply(initial, system)"
   ]
  },
  {
   "cell_type": "code",
   "execution_count": 6,
   "metadata": {},
   "outputs": [],
   "source": [
    "system.solve()"
   ]
  },
  {
   "cell_type": "code",
   "execution_count": null,
   "metadata": {},
   "outputs": [],
   "source": [
    "planetengine.utilities.quickShow(system.temperatureField)"
   ]
  },
  {
   "cell_type": "code",
   "execution_count": null,
   "metadata": {},
   "outputs": [],
   "source": [
    "# Example of how to build a 'scalar integral'\n",
    "myint = planetengine.newstats.StandardIntegral(\n",
    "    system.viscosityFn * system.velocityField,\n",
    "    comp = 'mag',\n",
    "    gradient = 'rad',\n",
    "    surface = 'outer'\n",
    "    )"
   ]
  },
  {
   "cell_type": "code",
   "execution_count": null,
   "metadata": {},
   "outputs": [],
   "source": [
    "obsVars = {\n",
    "    'temperature': system.temperatureField,\n",
    "    'velocity': system.velocityField,\n",
    "    'viscosity': system.viscosityFn,\n",
    "    'stress': system.viscosityFn * system.velocityField\n",
    "    }"
   ]
  },
  {
   "cell_type": "code",
   "execution_count": null,
   "metadata": {
    "scrolled": true
   },
   "outputs": [],
   "source": [
    "statsDict = {}\n",
    "\n",
    "for varName, var in sorted(obsVars.items()):\n",
    "\n",
    "    pevar = planetengine.standardise(var)\n",
    "    var = pevar.var\n",
    "\n",
    "    standardIntegralSuite = {\n",
    "        'surface': ['volume', 'inner', 'outer'],\n",
    "        'comp': ['mag', 'ang', 'rad'],\n",
    "        'gradient': [None, 'ang', 'rad']\n",
    "        }\n",
    "\n",
    "    for inputDict in planetengine.utilities.suite_list(standardIntegralSuite):\n",
    "        anVar = planetengine.newstats.StandardIntegral(\n",
    "            var,\n",
    "            **inputDict\n",
    "            )\n",
    "        statsDict[varName + '_' + anVar.opTag] = anVar"
   ]
  },
  {
   "cell_type": "code",
   "execution_count": null,
   "metadata": {
    "scrolled": true
   },
   "outputs": [],
   "source": [
    "statsDict"
   ]
  },
  {
   "cell_type": "code",
   "execution_count": null,
   "metadata": {},
   "outputs": [],
   "source": [
    "resultsDict = {key: integral() for key, integral in sorted(statsDict.items())}"
   ]
  },
  {
   "cell_type": "code",
   "execution_count": null,
   "metadata": {
    "scrolled": true
   },
   "outputs": [],
   "source": [
    "resultsDict"
   ]
  },
  {
   "cell_type": "code",
   "execution_count": null,
   "metadata": {},
   "outputs": [],
   "source": [
    "- resultsDict['temperature_radGrad_outerInt'] / resultsDict['temperature_innerInt']"
   ]
  },
  {
   "cell_type": "code",
   "execution_count": null,
   "metadata": {
    "scrolled": true
   },
   "outputs": [],
   "source": [
    "for i in range(1000):\n",
    "    system.iterate()"
   ]
  },
  {
   "cell_type": "code",
   "execution_count": null,
   "metadata": {},
   "outputs": [],
   "source": [
    "planetengine.quickShow(system.temperatureField, system.velocityField, system.materialVar)"
   ]
  },
  {
   "cell_type": "code",
   "execution_count": null,
   "metadata": {},
   "outputs": [],
   "source": [
    "resultsDict = {key: integral() for key, integral in sorted(statsDict.items())}"
   ]
  },
  {
   "cell_type": "code",
   "execution_count": null,
   "metadata": {},
   "outputs": [],
   "source": [
    "- resultsDict['temperature_radGrad_outerInt'] / resultsDict['temperature_innerInt']"
   ]
  },
  {
   "cell_type": "code",
   "execution_count": null,
   "metadata": {},
   "outputs": [],
   "source": [
    "from underworld import function as fn"
   ]
  },
  {
   "cell_type": "code",
   "execution_count": null,
   "metadata": {
    "scrolled": false
   },
   "outputs": [],
   "source": [
    "planetengine.quickShow(fn.math.dot(system.mesh.unitvec_theta_Fn, system.viscosityFn * system.velocityField))"
   ]
  },
  {
   "cell_type": "code",
   "execution_count": null,
   "metadata": {},
   "outputs": [],
   "source": []
  }
 ],
 "metadata": {
  "kernelspec": {
   "display_name": "Python 3",
   "language": "python",
   "name": "python3"
  },
  "language_info": {
   "codemirror_mode": {
    "name": "ipython",
    "version": 3
   },
   "file_extension": ".py",
   "mimetype": "text/x-python",
   "name": "python",
   "nbconvert_exporter": "python",
   "pygments_lexer": "ipython3",
   "version": "3.5.3"
  }
 },
 "nbformat": 4,
 "nbformat_minor": 2
}
