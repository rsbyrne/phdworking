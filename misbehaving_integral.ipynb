{
 "cells": [
  {
   "cell_type": "code",
   "execution_count": 1,
   "metadata": {},
   "outputs": [],
   "source": [
    "import underworld as uw\n",
    "from underworld import function as fn\n",
    "import glucifer\n",
    "import numpy as np\n",
    "import math"
   ]
  },
  {
   "cell_type": "code",
   "execution_count": 2,
   "metadata": {},
   "outputs": [],
   "source": [
    "from planetengine.utilities import quickShow"
   ]
  },
  {
   "cell_type": "code",
   "execution_count": 3,
   "metadata": {},
   "outputs": [],
   "source": [
    "mesh = uw.mesh.FeMesh_Annulus(\n",
    "    elementRes = (32, 32),\n",
    "    radialLengths = (1., 2.),\n",
    "    angularExtent = (60., 120.)\n",
    "    )"
   ]
  },
  {
   "cell_type": "code",
   "execution_count": 4,
   "metadata": {},
   "outputs": [],
   "source": [
    "temperatureField = uw.mesh.MeshVariable(mesh, 1)\n",
    "temperatureDotField = uw.mesh.MeshVariable(mesh, 1)\n",
    "pressureField = uw.mesh.MeshVariable(mesh.subMesh, 1)\n",
    "velocityField = uw.mesh.MeshVariable(mesh, 2)"
   ]
  },
  {
   "cell_type": "code",
   "execution_count": 5,
   "metadata": {},
   "outputs": [],
   "source": [
    "inner = mesh.specialSets[\"inner\"]\n",
    "outer = mesh.specialSets[\"outer\"]\n",
    "sides = mesh.specialSets[\"MaxJ_VertexSet\"] + mesh.specialSets[\"MinJ_VertexSet\"]\n",
    "\n",
    "velBC = uw.conditions.RotatedDirichletCondition(\n",
    "    variable = velocityField,\n",
    "    indexSetsPerDof= (inner + outer, sides),\n",
    "    basis_vectors = (mesh.bnd_vec_normal, mesh.bnd_vec_tangent)\n",
    "    )\n",
    "\n",
    "tempBC = uw.conditions.DirichletCondition(\n",
    "    variable = temperatureField,\n",
    "    indexSetsPerDof = (inner + outer,)\n",
    "    )"
   ]
  },
  {
   "cell_type": "code",
   "execution_count": 6,
   "metadata": {},
   "outputs": [],
   "source": [
    "vc = uw.mesh.MeshVariable(mesh = mesh, nodeDofCount = 2)\n",
    "vc_eqNum = uw.systems.sle.EqNumber(vc, False )\n",
    "vcVec = uw.systems.sle.SolutionVector(vc, vc_eqNum)"
   ]
  },
  {
   "cell_type": "code",
   "execution_count": 7,
   "metadata": {},
   "outputs": [],
   "source": [
    "isoviscous = fn.misc.constant(True)"
   ]
  },
  {
   "cell_type": "code",
   "execution_count": 8,
   "metadata": {},
   "outputs": [],
   "source": [
    "invDensityFn = temperatureField * 1e7\n",
    "buoyancyFn = invDensityFn * mesh.unitvec_r_Fn\n",
    "magnitude = fn.math.sqrt(fn.coord()[0]**2 + fn.coord()[1]**2)\n",
    "depthFn = mesh.radialLengths[1] - magnitude\n",
    "yieldStressFn = 4e5 + (1e7 * depthFn)\n",
    "secInvFn = fn.tensor.second_invariant(fn.tensor.symmetric(vc.fn_gradient))\n",
    "plasticViscFn = yieldStressFn / (2. * secInvFn + 1e-18)\n",
    "creepViscFn = fn.math.pow(fn.misc.constant(3e4), -1. * (temperatureField - 1.))\n",
    "viscoplastic = fn.misc.min(3e4, fn.misc.max(1., fn.misc.min(creepViscFn, plasticViscFn)))\n",
    "\n",
    "viscosityFn = fn.branching.conditional([(isoviscous, 1.), (True, viscoplastic)])\n",
    "\n",
    "stokes = uw.systems.Stokes(\n",
    "    velocityField = velocityField,\n",
    "    pressureField = pressureField,\n",
    "    conditions = [velBC,],\n",
    "    fn_viscosity = viscosityFn,\n",
    "    fn_bodyforce = buoyancyFn,\n",
    "    _removeBCs = False,\n",
    "    )\n",
    "\n",
    "solver = uw.systems.Solver(stokes)"
   ]
  },
  {
   "cell_type": "code",
   "execution_count": 9,
   "metadata": {},
   "outputs": [],
   "source": [
    "def postSolve():\n",
    "    # realign solution using the rotation matrix on stokes\n",
    "    uw.libUnderworld.Underworld.AXequalsY(\n",
    "        stokes._rot._cself,\n",
    "        stokes._velocitySol._cself,\n",
    "        vcVec._cself,\n",
    "        False\n",
    "        )\n",
    "    # remove null space - the solid body rotation velocity contribution\n",
    "    uw.libUnderworld.StgFEM.SolutionVector_RemoveVectorSpace(\n",
    "        stokes._velocitySol._cself, \n",
    "        stokes._vnsVec._cself\n",
    "        )"
   ]
  },
  {
   "cell_type": "code",
   "execution_count": 80,
   "metadata": {},
   "outputs": [],
   "source": [
    "def solve():\n",
    "    velocityField.data[:] = 0.\n",
    "    solver.solve(\n",
    "        nonLinearIterate = not isoviscous.value,\n",
    "        callback_post_solve = postSolve\n",
    "        )\n",
    "    uw.libUnderworld.Underworld.AXequalsX(\n",
    "        stokes._rot._cself,\n",
    "        stokes._velocitySol._cself,\n",
    "        False\n",
    "        )"
   ]
  },
  {
   "cell_type": "code",
   "execution_count": 81,
   "metadata": {},
   "outputs": [],
   "source": [
    "def initialise():\n",
    "    function = (2. - fn.input()[0]) + (fn.math.cos(2. - fn.input()[0]) * fn.math.sin(.5 * fn.input()[1] / 180.))\n",
    "    temperatureField.data[:] = function.evaluate(mesh.radialData)\n",
    "    temperatureField.data[outer] = 0.\n",
    "    temperatureField.data[inner] = 1.\n",
    "    velocityField.data[:] = [0., 0.]\n",
    "    pressureField.data[:] = 0.\n",
    "    temperatureDotField.data[:] = 0."
   ]
  },
  {
   "cell_type": "code",
   "execution_count": 82,
   "metadata": {},
   "outputs": [],
   "source": [
    "def build_int():\n",
    "    surfIntegral = uw.utils.Integral(\n",
    "        fn.math.dot(velocityField, velocityField), mesh,\n",
    "        integrationType = 'surface',\n",
    "        surfaceIndexSet = outer,\n",
    "        )\n",
    "    return surfIntegral"
   ]
  },
  {
   "cell_type": "code",
   "execution_count": 83,
   "metadata": {},
   "outputs": [],
   "source": [
    "def test(isovisc):\n",
    "    isoviscous.value = isovisc\n",
    "    print(\"Isoviscous: \", isovisc)\n",
    "    initialise()\n",
    "    solve()\n",
    "    surfIntegral = build_int()\n",
    "    velCopy = velocityField.data.copy()\n",
    "    tempCopy = temperatureField.data.copy()\n",
    "    pressCopy = pressureField.data.copy()\n",
    "    tempdotCopy = temperatureDotField.data.copy()\n",
    "    for _ in range(10):\n",
    "        solve()\n",
    "        surfVal = surfIntegral.evaluate()[0]\n",
    "        print(surfVal)\n",
    "        check = all([\n",
    "            np.allclose(velCopy, velocityField.data),\n",
    "            np.allclose(tempCopy, temperatureField.data),\n",
    "            np.allclose(pressCopy, pressureField.data),\n",
    "            np.allclose(tempdotCopy, tempdotCopy.data),\n",
    "            ])\n",
    "        print(check)"
   ]
  },
  {
   "cell_type": "code",
   "execution_count": 93,
   "metadata": {},
   "outputs": [],
   "source": [
    "def test2(isovisc):\n",
    "    isoviscous.value = isovisc\n",
    "    print(\"Isoviscous: \", isovisc)\n",
    "    initialise()\n",
    "    solve()\n",
    "    velCopy = velocityField.data.copy()\n",
    "    solve()\n",
    "    print(\"Vel field unchanged: \", np.allclose(velCopy, velocityField.data))"
   ]
  },
  {
   "cell_type": "code",
   "execution_count": 94,
   "metadata": {},
   "outputs": [
    {
     "name": "stdout",
     "output_type": "stream",
     "text": [
      "Isoviscous:  True\n",
      "Vel field unchanged:  True\n",
      "Isoviscous:  False\n",
      "Vel field unchanged:  True\n"
     ]
    }
   ],
   "source": [
    "test2(True)\n",
    "test2(False)"
   ]
  },
  {
   "cell_type": "code",
   "execution_count": 61,
   "metadata": {
    "scrolled": true
   },
   "outputs": [
    {
     "name": "stdout",
     "output_type": "stream",
     "text": [
      "Isoviscous:  True\n",
      "318923395.94400495\n",
      "True\n",
      "318923395.94400495\n",
      "True\n",
      "318923395.94400495\n",
      "True\n",
      "318923395.94400495\n",
      "True\n",
      "318923395.94400495\n",
      "True\n",
      "318923395.94400495\n",
      "True\n",
      "318923395.94400495\n",
      "True\n",
      "318923395.94400495\n",
      "True\n",
      "318923395.94400495\n",
      "True\n",
      "318923395.94400495\n",
      "True\n",
      "Isoviscous:  False\n",
      "20811.903859400623\n",
      "False\n",
      "8701.866494750899\n",
      "False\n",
      "7337.442936742046\n",
      "False\n",
      "7043.7919503240455\n",
      "False\n",
      "6969.741030257115\n",
      "False\n",
      "6948.663774924843\n",
      "False\n",
      "6941.753808488464\n",
      "False\n",
      "6939.207006151775\n",
      "False\n",
      "6938.136001709274\n",
      "False\n",
      "6937.619020246664\n",
      "False\n"
     ]
    }
   ],
   "source": [
    "test(True)\n",
    "test(False)"
   ]
  }
 ],
 "metadata": {
  "kernelspec": {
   "display_name": "Python 3",
   "language": "python",
   "name": "python3"
  },
  "language_info": {
   "codemirror_mode": {
    "name": "ipython",
    "version": 3
   },
   "file_extension": ".py",
   "mimetype": "text/x-python",
   "name": "python",
   "nbconvert_exporter": "python",
   "pygments_lexer": "ipython3",
   "version": "3.5.3"
  }
 },
 "nbformat": 4,
 "nbformat_minor": 2
}
