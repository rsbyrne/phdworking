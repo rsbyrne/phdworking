{
 "cells": [
  {
   "cell_type": "code",
   "execution_count": 1,
   "metadata": {},
   "outputs": [],
   "source": [
    "import sys\n",
    "sys.path.append('..')"
   ]
  },
  {
   "cell_type": "code",
   "execution_count": 2,
   "metadata": {},
   "outputs": [],
   "source": [
    "import planetengine\n",
    "import modelscripts"
   ]
  },
  {
   "cell_type": "code",
   "execution_count": 3,
   "metadata": {},
   "outputs": [],
   "source": [
    "from planetengine import quickShow"
   ]
  },
  {
   "cell_type": "code",
   "execution_count": 4,
   "metadata": {},
   "outputs": [],
   "source": [
    "system = modelscripts.isovisc_systemscript.build(aspect = 7, res = 4)"
   ]
  },
  {
   "cell_type": "code",
   "execution_count": 5,
   "metadata": {},
   "outputs": [],
   "source": [
    "import numpy as np\n",
    "import math\n",
    "import underworld as uw\n",
    "\n",
    "from mpi4py import MPI\n",
    "comm = MPI.COMM_WORLD\n",
    "rank = comm.Get_rank()\n",
    "nProcs = comm.Get_size()\n",
    "\n",
    "def boundary_interpolate(fromData, toData, dim):\n",
    "    # NOT PARALLEL SAFE\n",
    "\n",
    "    assert nProcs == 1\n",
    "\n",
    "    fromField, fromMesh, fromIndexSet = fromData\n",
    "    comp = 0\n",
    "    outArrs = []\n",
    "    while comp < dim:\n",
    "        coordSet = fromMesh.data[fromIndexSet]\n",
    "        previousCoord = coordSet[0]\n",
    "        cumulativeDistance = 0.\n",
    "        fromPositions = []\n",
    "        fromValues = []\n",
    "        for index, currentCoord in enumerate(coordSet):\n",
    "            cumulativeDistance += math.hypot(\n",
    "                currentCoord[0] - previousCoord[0],\n",
    "                currentCoord[1] - previousCoord[1]\n",
    "                )\n",
    "            value = fromField.data[list(fromIndexSet)[index]][comp]\n",
    "            fromPositions.append(cumulativeDistance)\n",
    "            fromValues.append(value)\n",
    "            previousCoord = currentCoord\n",
    "\n",
    "        toField, toMesh, toIndexSet = toData\n",
    "        coordSet = toMesh.data[toIndexSet]\n",
    "        previousCoord = coordSet[0]\n",
    "        cumulativeDistance = 0.\n",
    "        toPositions = []\n",
    "        for index, currentCoord in enumerate(coordSet):\n",
    "            cumulativeDistance += math.hypot(\n",
    "                currentCoord[0] - previousCoord[0],\n",
    "                currentCoord[1] - previousCoord[1]\n",
    "                )\n",
    "            toPositions.append(cumulativeDistance)\n",
    "            previousCoord = currentCoord\n",
    "\n",
    "        toValues = np.interp(toPositions, fromPositions, fromValues)\n",
    "        outArrs.append(toValues)\n",
    "        comp += 1\n",
    "\n",
    "    outArr = np.dstack(outArrs)\n",
    "\n",
    "    toField.data[toIndexSet] = outArr\n",
    "\n",
    "def get_scales(variable, partitioned = False):\n",
    "    scales = []\n",
    "    if type(variable) == np.ndarray:\n",
    "        data = variable\n",
    "    else:\n",
    "        data = variable.data\n",
    "    if partitioned:\n",
    "        data = comm.gather(data, root = 0)\n",
    "    if rank == 0:\n",
    "        data = np.vstack(data)\n",
    "        for i in range(data.shape[1]):\n",
    "            scales.append(\n",
    "                [data[:,i].min(),\n",
    "                data[:,i].max()]\n",
    "                )\n",
    "    scales = comm.bcast(scales, root = 0)\n",
    "    return scales\n",
    "\n",
    "def recentered_coords(\n",
    "        coordArray,\n",
    "        origin = (0., 0.),\n",
    "        inverse = False,\n",
    "        ):\n",
    "\n",
    "    if not inverse:\n",
    "        outArray = coordArray - origin\n",
    "    else:\n",
    "        outArray = coordArray + origin\n",
    "\n",
    "    return outArray\n",
    "\n",
    "def radial_coords(\n",
    "        coordArray,\n",
    "        origin = (0., 0.),\n",
    "        inverse = False,\n",
    "        ):\n",
    "\n",
    "    recenteredCoords = recentered_coords(coordArray, origin, inverse)\n",
    "\n",
    "    if not inverse:\n",
    "        xs, ys = recenteredCoords.transpose()\n",
    "        angular = np.arctan2(ys, xs) * 180. / np.pi\n",
    "        angular = np.where(angular >= 0., angular, angular + 360.)\n",
    "        radial = np.hypot(xs, ys)\n",
    "        outArray = np.dstack((angular, radial))[0]\n",
    "\n",
    "    else:\n",
    "        angular, radial = recenteredCoords.transpose()\n",
    "        xs = radial * np.cos(angular * np.pi / 180.)\n",
    "        ys = radial * np.sin(angular * np.pi / 180.)\n",
    "        outArray = np.dstack((xs, ys))[0]\n",
    "\n",
    "    return outArray\n",
    "\n",
    "# def rotate_coords(\n",
    "#         coordArray,\n",
    "#         rotation\n",
    "#         ):\n",
    "#     # rotation is in degrees;\n",
    "#     # positive is anticlockwise\n",
    "#     angs, rads = coordArray.transpose()\n",
    "#     angs += rotation\n",
    "#     outArray = np.dstack((angs, rads))[0]\n",
    "#     return outArray\n",
    "\n",
    "def rescale_array(\n",
    "        inArray,\n",
    "        inScales,\n",
    "        outScales,\n",
    "        flip = None\n",
    "        ):\n",
    "\n",
    "    transposed = inArray.transpose()\n",
    "    outVals = []\n",
    "    for nD in range(len(transposed)):\n",
    "        vals = transposed[nD]\n",
    "        inScale = inScales[nD]\n",
    "        outScale = outScales[nD]\n",
    "        inRange = inScale[1] - inScale[0]\n",
    "        outRange = outScale[1] - outScale[0]\n",
    "        inMin, inMax = inScale\n",
    "        outMin, outMax = outScale\n",
    "        vals = ((vals - inMin) / inRange)\n",
    "        if not flip == None:\n",
    "            if flip[nD]:\n",
    "                vals = 1. - vals\n",
    "        vals = vals * outRange + outMin\n",
    "        vals = np.clip(vals, outMin, outMax)\n",
    "        outVals.append(vals)\n",
    "    outArray = np.dstack(outVals)[0]\n",
    "    return outArray\n",
    "\n",
    "def box(mesh, coordArray = None, boxDims = ((0., 1), (0., 1.))):\n",
    "    if coordArray is None:\n",
    "        coordArray = mesh.data\n",
    "    if type(mesh) == uw.mesh.FeMesh_Annulus:\n",
    "        radialCoords = radial_coords(coordArray)\n",
    "        inScales = [mesh.angularExtent, mesh.radialLengths]\n",
    "#         rotatedCoords = rotate_coords(radialCoords, \n",
    "#         inScales = get_scales(radialCoords)\n",
    "#         print(inScales)\n",
    "        outScales = boxDims\n",
    "        outArray = rescale_array(\n",
    "            radialCoords,\n",
    "            inScales,\n",
    "            outScales,\n",
    "            flip = [True, False]\n",
    "            )\n",
    "    else:\n",
    "        outArray = rescale_array(\n",
    "            coordArray,\n",
    "            list(zip(mesh.minCoord, mesh.maxCoord)),\n",
    "            boxDims\n",
    "            )\n",
    "    return outArray\n",
    "\n",
    "def unbox(mesh, coordArray = None, boxDims = ((0., 1), (0., 1.))):\n",
    "    if coordArray is None:\n",
    "        coordArray = mesh.data\n",
    "    outArray = radial_coords(\n",
    "        rescale_array(\n",
    "            coordArray,\n",
    "            boxDims,\n",
    "            (mesh.angularExtent, mesh.radialLengths),\n",
    "            flip = [True, False]\n",
    "            ),\n",
    "        inverse = True\n",
    "        )\n",
    "    return outArray"
   ]
  },
  {
   "cell_type": "code",
   "execution_count": 6,
   "metadata": {},
   "outputs": [
    {
     "name": "stdout",
     "output_type": "stream",
     "text": [
      "Fitted 0 variables to the figure.\n"
     ]
    },
    {
     "data": {
      "text/html": [
       "<img src='data:image/png;base64,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'>"
      ],
      "text/plain": [
       "<IPython.core.display.HTML object>"
      ]
     },
     "metadata": {},
     "output_type": "display_data"
    }
   ],
   "source": [
    "quickShow(system.mesh)"
   ]
  },
  {
   "cell_type": "code",
   "execution_count": 7,
   "metadata": {},
   "outputs": [],
   "source": [
    "boxDims = ((0., 1.),) * system.mesh.dim\n",
    "angBox = system.mesh.add_variable(1)\n",
    "newAngBox = system.mesh.add_variable(1)\n",
    "box = box(system.mesh, system.mesh.data, boxDims)\n",
    "angBox.data[:] = box[:,0].reshape(angBox.data.shape)"
   ]
  },
  {
   "cell_type": "code",
   "execution_count": 8,
   "metadata": {},
   "outputs": [
    {
     "name": "stdout",
     "output_type": "stream",
     "text": [
      "Fitted 1 variables to the figure.\n"
     ]
    },
    {
     "data": {
      "text/html": [
       "<img src='data:image/png;base64,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'>"
      ],
      "text/plain": [
       "<IPython.core.display.HTML object>"
      ]
     },
     "metadata": {},
     "output_type": "display_data"
    }
   ],
   "source": [
    "quickShow(angBox)"
   ]
  },
  {
   "cell_type": "code",
   "execution_count": null,
   "metadata": {},
   "outputs": [],
   "source": [
    "def rotate_coords(\n",
    "        coordArray,\n",
    "        rotation\n",
    "        ):\n",
    "    # rotation is in degrees;\n",
    "    # positive is anticlockwise\n",
    "    angs, rads = coordArray.transpose()\n",
    "    angs += rotation\n",
    "    outArray = np.dstack((angs, rads))[0]\n",
    "    return outArray"
   ]
  },
  {
   "cell_type": "code",
   "execution_count": null,
   "metadata": {},
   "outputs": [],
   "source": [
    "angBox.data[:] = rotate_coords(box, 100.)[:,0].reshape(angBox.data.shape)"
   ]
  },
  {
   "cell_type": "code",
   "execution_count": null,
   "metadata": {},
   "outputs": [],
   "source": [
    "import numpy as np"
   ]
  },
  {
   "cell_type": "code",
   "execution_count": null,
   "metadata": {},
   "outputs": [],
   "source": [
    "xs, ys = system.mesh.data.transpose()\n",
    "newAngBox.data[:] = np.vstack(np.arctan2(ys, xs) * 180. / np.pi)"
   ]
  },
  {
   "cell_type": "code",
   "execution_count": null,
   "metadata": {},
   "outputs": [],
   "source": [
    "quickShow(newAngBox)"
   ]
  },
  {
   "cell_type": "code",
   "execution_count": null,
   "metadata": {},
   "outputs": [],
   "source": [
    "newAngBox.data[:] = rescale_array(newAngBox.data, get_scales(newAngBox.data), [[0., 1]])"
   ]
  },
  {
   "cell_type": "code",
   "execution_count": null,
   "metadata": {},
   "outputs": [],
   "source": [
    "quickShow(newAngBox)"
   ]
  },
  {
   "cell_type": "code",
   "execution_count": null,
   "metadata": {},
   "outputs": [],
   "source": [
    "from planetengine.mapping import rescale_array\n",
    "from planetengine.mapping import radial_coords\n",
    "from planetengine.mapping import get_scales\n",
    "\n",
    "coordArray = system.mesh.data\n",
    "\n",
    "radialCoords = radial_coords(coordArray)\n",
    "inScales = get_scales(radialCoords)\n",
    "outScales = boxDims\n",
    "outArray = rescale_array(\n",
    "    radialCoords,\n",
    "    inScales,\n",
    "    outScales,\n",
    "    flip = [True, False]\n",
    "    )\n",
    "\n",
    "newAngBox.data[:] = outArray[:,0].reshape(newAngBox.data.shape)"
   ]
  },
  {
   "cell_type": "code",
   "execution_count": null,
   "metadata": {},
   "outputs": [],
   "source": [
    "quickShow(newAngBox)"
   ]
  },
  {
   "cell_type": "code",
   "execution_count": null,
   "metadata": {},
   "outputs": [],
   "source": [
    "system.mesh.angularExtent"
   ]
  },
  {
   "cell_type": "code",
   "execution_count": null,
   "metadata": {},
   "outputs": [],
   "source": [
    "system.mesh.radialLengths"
   ]
  },
  {
   "cell_type": "code",
   "execution_count": null,
   "metadata": {},
   "outputs": [],
   "source": []
  }
 ],
 "metadata": {
  "kernelspec": {
   "display_name": "Python 3",
   "language": "python",
   "name": "python3"
  },
  "language_info": {
   "codemirror_mode": {
    "name": "ipython",
    "version": 3
   },
   "file_extension": ".py",
   "mimetype": "text/x-python",
   "name": "python",
   "nbconvert_exporter": "python",
   "pygments_lexer": "ipython3",
   "version": "3.5.3"
  }
 },
 "nbformat": 4,
 "nbformat_minor": 2
}
