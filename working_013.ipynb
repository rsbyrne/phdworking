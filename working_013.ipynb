{
 "cells": [
  {
   "cell_type": "code",
   "execution_count": 24,
   "metadata": {},
   "outputs": [],
   "source": [
    "import planetengine\n",
    "import underworld as uw\n",
    "import numpy as np\n",
    "from modelscripts import MS98X_systemscript as systemscript\n",
    "\n",
    "from mpi4py import MPI\n",
    "comm = MPI.COMM_WORLD\n",
    "rank = comm.Get_rank()\n",
    "nProcs = comm.Get_size()\n",
    "\n",
    "system1 = systemscript.build(res = 16, f = 0.9, aspect = 2)\n",
    "system2 = systemscript.build(res = 32, f = 0.5, aspect = 1)\n",
    "system1.temperatureField.data[:] = np.random.rand(*system1.temperatureField.data.shape)\n",
    "system2.temperatureField.data[:] = 0.\n",
    "system1.materialVar.data[:] = np.random.rand(*system1.materialVar.data.shape)\n",
    "system2.materialVar.data[:] = 0"
   ]
  },
  {
   "cell_type": "code",
   "execution_count": 27,
   "metadata": {},
   "outputs": [
    {
     "data": {
      "text/html": [
       "<img src='data:image/png;base64,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'>"
      ],
      "text/plain": [
       "<IPython.core.display.HTML object>"
      ]
     },
     "metadata": {},
     "output_type": "display_data"
    }
   ],
   "source": [
    "planetengine.utilities.quickShow(system2.temperatureField)"
   ]
  },
  {
   "cell_type": "code",
   "execution_count": 28,
   "metadata": {},
   "outputs": [],
   "source": [
    "system = systemscript.build()"
   ]
  },
  {
   "cell_type": "code",
   "execution_count": 29,
   "metadata": {},
   "outputs": [],
   "source": [
    "mesh = system.mesh"
   ]
  },
  {
   "cell_type": "code",
   "execution_count": 30,
   "metadata": {},
   "outputs": [
    {
     "data": {
      "text/plain": [
       "5265"
      ]
     },
     "execution_count": 30,
     "metadata": {},
     "output_type": "execute_result"
    }
   ],
   "source": [
    "mesh.nodesGlobal"
   ]
  },
  {
   "cell_type": "code",
   "execution_count": 56,
   "metadata": {},
   "outputs": [],
   "source": [
    "field = system.temperatureField"
   ]
  },
  {
   "cell_type": "code",
   "execution_count": 60,
   "metadata": {},
   "outputs": [],
   "source": [
    "field.data[:] += 1"
   ]
  },
  {
   "cell_type": "code",
   "execution_count": 61,
   "metadata": {},
   "outputs": [
    {
     "data": {
      "text/plain": [
       "array([[ 3.],\n",
       "       [ 3.],\n",
       "       [ 3.],\n",
       "       ..., \n",
       "       [ 3.],\n",
       "       [ 3.],\n",
       "       [ 3.]])"
      ]
     },
     "execution_count": 61,
     "metadata": {},
     "output_type": "execute_result"
    }
   ],
   "source": [
    "field.data"
   ]
  },
  {
   "cell_type": "code",
   "execution_count": 39,
   "metadata": {},
   "outputs": [
    {
     "data": {
      "text/plain": [
       "array([30], dtype=int32)"
      ]
     },
     "execution_count": 39,
     "metadata": {},
     "output_type": "execute_result"
    }
   ],
   "source": [
    "mesh.data_nodegId[30]"
   ]
  },
  {
   "cell_type": "code",
   "execution_count": 45,
   "metadata": {},
   "outputs": [],
   "source": [
    "del field"
   ]
  },
  {
   "cell_type": "code",
   "execution_count": 46,
   "metadata": {},
   "outputs": [
    {
     "ename": "NameError",
     "evalue": "name 'field' is not defined",
     "output_type": "error",
     "traceback": [
      "\u001b[0;31m---------------------------------------------------------------------------\u001b[0m",
      "\u001b[0;31mNameError\u001b[0m                                 Traceback (most recent call last)",
      "\u001b[0;32m<ipython-input-46-d6d4c6474397>\u001b[0m in \u001b[0;36m<module>\u001b[0;34m\u001b[0m\n\u001b[0;32m----> 1\u001b[0;31m \u001b[0mfield\u001b[0m\u001b[0;34m\u001b[0m\u001b[0m\n\u001b[0m",
      "\u001b[0;31mNameError\u001b[0m: name 'field' is not defined"
     ]
    }
   ],
   "source": [
    "field"
   ]
  },
  {
   "cell_type": "code",
   "execution_count": 54,
   "metadata": {},
   "outputs": [
    {
     "ename": "SyntaxError",
     "evalue": "can't delete function call (<ipython-input-54-7559e15e8c7e>, line 5)",
     "output_type": "error",
     "traceback": [
      "\u001b[0;36m  File \u001b[0;32m\"<ipython-input-54-7559e15e8c7e>\"\u001b[0;36m, line \u001b[0;32m5\u001b[0m\n\u001b[0;31m    del locals()\u001b[0m\n\u001b[0m       ^\u001b[0m\n\u001b[0;31mSyntaxError\u001b[0m\u001b[0;31m:\u001b[0m can't delete function call\n"
     ]
    }
   ],
   "source": [
    "global_apricots = \"Foobar!\"\n",
    "def myfunc():\n",
    "    apricots = global_apricots\n",
    "    print(locals())\n",
    "    del locals()\n",
    "    print(locals())"
   ]
  },
  {
   "cell_type": "code",
   "execution_count": 52,
   "metadata": {},
   "outputs": [
    {
     "name": "stdout",
     "output_type": "stream",
     "text": [
      "{'apricots': 'Foobar!'}\n",
      "{}\n"
     ]
    }
   ],
   "source": [
    "myfunc()"
   ]
  },
  {
   "cell_type": "code",
   "execution_count": 53,
   "metadata": {},
   "outputs": [
    {
     "data": {
      "text/plain": [
       "'Foobar!'"
      ]
     },
     "execution_count": 53,
     "metadata": {},
     "output_type": "execute_result"
    }
   ],
   "source": [
    "global_apricots"
   ]
  },
  {
   "cell_type": "code",
   "execution_count": 55,
   "metadata": {},
   "outputs": [
    {
     "ename": "NameError",
     "evalue": "name 'field' is not defined",
     "output_type": "error",
     "traceback": [
      "\u001b[0;31m---------------------------------------------------------------------------\u001b[0m",
      "\u001b[0;31mNameError\u001b[0m                                 Traceback (most recent call last)",
      "\u001b[0;32m<ipython-input-55-d6d4c6474397>\u001b[0m in \u001b[0;36m<module>\u001b[0;34m\u001b[0m\n\u001b[0;32m----> 1\u001b[0;31m \u001b[0mfield\u001b[0m\u001b[0;34m\u001b[0m\u001b[0m\n\u001b[0m",
      "\u001b[0;31mNameError\u001b[0m: name 'field' is not defined"
     ]
    }
   ],
   "source": [
    "field"
   ]
  },
  {
   "cell_type": "code",
   "execution_count": null,
   "metadata": {},
   "outputs": [],
   "source": []
  }
 ],
 "metadata": {
  "kernelspec": {
   "display_name": "Python 3",
   "language": "python",
   "name": "python3"
  },
  "language_info": {
   "codemirror_mode": {
    "name": "ipython",
    "version": 3
   },
   "file_extension": ".py",
   "mimetype": "text/x-python",
   "name": "python",
   "nbconvert_exporter": "python",
   "pygments_lexer": "ipython3",
   "version": "3.5.3"
  }
 },
 "nbformat": 4,
 "nbformat_minor": 2
}
