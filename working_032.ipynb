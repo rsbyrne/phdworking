{
 "cells": [
  {
   "cell_type": "code",
   "execution_count": null,
   "metadata": {},
   "outputs": [],
   "source": [
    "import sys\n",
    "sys.path.append('/workspace/user_data')"
   ]
  },
  {
   "cell_type": "code",
   "execution_count": null,
   "metadata": {},
   "outputs": [],
   "source": [
    "import modelscripts\n",
    "import planetengine"
   ]
  },
  {
   "cell_type": "code",
   "execution_count": null,
   "metadata": {},
   "outputs": [],
   "source": [
    "model = planetengine.frame.make_frame(\n",
    "    modelscripts.arrhenius_systemscript.build(res = 16),\n",
    "    modelscripts.arrhenius_observerscript.build(),\n",
    "    {'temperatureField': planetengine.initials.sinusoidal.IC()},\n",
    "    '/workspace/user_data/tests/arrhenius'\n",
    "    )"
   ]
  },
  {
   "cell_type": "code",
   "execution_count": null,
   "metadata": {},
   "outputs": [],
   "source": [
    "model.report()"
   ]
  },
  {
   "cell_type": "code",
   "execution_count": null,
   "metadata": {
    "scrolled": true
   },
   "outputs": [],
   "source": [
    "model.go(1000)"
   ]
  },
  {
   "cell_type": "code",
   "execution_count": null,
   "metadata": {},
   "outputs": [],
   "source": [
    "model.report()"
   ]
  },
  {
   "cell_type": "code",
   "execution_count": null,
   "metadata": {},
   "outputs": [],
   "source": [
    "model2 = planetengine.frame.make_frame(\n",
    "    modelscripts.arrhenius_systemscript.build(res = 64),\n",
    "    modelscripts.arrhenius_observerscript.build(),\n",
    "    {'temperatureField': planetengine.initials.load.IC(model, 'temperatureField')},\n",
    "    '/workspace/user_data/tests/arrhenius'\n",
    "    )"
   ]
  },
  {
   "cell_type": "code",
   "execution_count": null,
   "metadata": {},
   "outputs": [],
   "source": [
    "model2.report()"
   ]
  },
  {
   "cell_type": "code",
   "execution_count": null,
   "metadata": {},
   "outputs": [],
   "source": [
    "model2.go(100)"
   ]
  },
  {
   "cell_type": "code",
   "execution_count": null,
   "metadata": {},
   "outputs": [],
   "source": [
    "model2.report()"
   ]
  },
  {
   "cell_type": "code",
   "execution_count": null,
   "metadata": {},
   "outputs": [],
   "source": [
    "import underworld as uw\n",
    "from underworld import function as fn"
   ]
  },
  {
   "cell_type": "code",
   "execution_count": null,
   "metadata": {},
   "outputs": [],
   "source": [
    "stressFn = fn.math.sqrt(\n",
    "    fn.math.dot(\n",
    "        model.system.viscosityFn * model.system.velocityField,\n",
    "        model.system.viscosityFn * model.system.velocityField\n",
    "        )\n",
    "    )\n",
    "logStressFn = fn.math.log(stressFn)"
   ]
  },
  {
   "cell_type": "code",
   "execution_count": null,
   "metadata": {},
   "outputs": [],
   "source": [
    "planetengine.quickShow(stressFn)"
   ]
  },
  {
   "cell_type": "code",
   "execution_count": null,
   "metadata": {},
   "outputs": [],
   "source": [
    "planetengine.quickShow(logStressFn, model.system.velocityField)"
   ]
  },
  {
   "cell_type": "code",
   "execution_count": null,
   "metadata": {},
   "outputs": [],
   "source": [
    "planetengine.quickShow(model.system.viscosityFn.pevar.meshVar.)"
   ]
  },
  {
   "cell_type": "code",
   "execution_count": null,
   "metadata": {},
   "outputs": [],
   "source": [
    "viscgrad = fn.math.sqrt(\n",
    "    fn.math.dot(\n",
    "        model.system.viscosityFn.pevar.meshVar.fn_gradient,\n",
    "        model.system.viscosityFn.pevar.meshVar.fn_gradient\n",
    "        )\n",
    "    )"
   ]
  },
  {
   "cell_type": "code",
   "execution_count": null,
   "metadata": {},
   "outputs": [],
   "source": [
    "planetengine.quickShow(viscgrad)"
   ]
  },
  {
   "cell_type": "code",
   "execution_count": null,
   "metadata": {},
   "outputs": [],
   "source": [
    "stagDonut = planetengine.frame.make_frame(\n",
    "    modelscripts.arrhenius_systemscript.build(res = 16, aspect = 'max'),\n",
    "    modelscripts.arrhenius_observerscript.build(),\n",
    "    {'temperatureField': planetengine.initials.load.IC(model2, 'temperatureField')},\n",
    "    '/workspace/user_data/tests/arrhenius'\n",
    "    )"
   ]
  },
  {
   "cell_type": "code",
   "execution_count": null,
   "metadata": {},
   "outputs": [],
   "source": [
    "stagDonut.report()"
   ]
  }
 ],
 "metadata": {
  "kernelspec": {
   "display_name": "Python 3",
   "language": "python",
   "name": "python3"
  },
  "language_info": {
   "codemirror_mode": {
    "name": "ipython",
    "version": 3
   },
   "file_extension": ".py",
   "mimetype": "text/x-python",
   "name": "python",
   "nbconvert_exporter": "python",
   "pygments_lexer": "ipython3",
   "version": "3.5.3"
  }
 },
 "nbformat": 4,
 "nbformat_minor": 2
}
