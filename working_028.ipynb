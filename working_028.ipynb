{
 "cells": [
  {
   "cell_type": "code",
   "execution_count": null,
   "metadata": {},
   "outputs": [],
   "source": [
    "import sys\n",
    "sys.path.append('..')"
   ]
  },
  {
   "cell_type": "code",
   "execution_count": null,
   "metadata": {},
   "outputs": [],
   "source": [
    "import planetengine\n",
    "import modelscripts"
   ]
  },
  {
   "cell_type": "code",
   "execution_count": null,
   "metadata": {},
   "outputs": [],
   "source": [
    "import os"
   ]
  },
  {
   "cell_type": "code",
   "execution_count": null,
   "metadata": {},
   "outputs": [],
   "source": [
    "outputPath = '../data/tests'"
   ]
  },
  {
   "cell_type": "code",
   "execution_count": null,
   "metadata": {
    "scrolled": true
   },
   "outputs": [],
   "source": [
    "MS98 = planetengine.frame.load_frame(outputPath, \"pemod_anorgana-defrosts\", loadStep = 'max')"
   ]
  },
  {
   "cell_type": "code",
   "execution_count": null,
   "metadata": {},
   "outputs": [],
   "source": [
    "MS98X = planetengine.frame.make_frame(\n",
    "    modelscripts.MS98X_systemscript.build(res = 64, Ra = 1e7, tau = 1e6, heating = 0., aspect = 2),\n",
    "    modelscripts.MS98X_observerscript.build(),\n",
    "    initials = {\n",
    "        'temperatureField': planetengine.initials.load.IC(\n",
    "            os.path.join(outputPath, 'pemod_anorgana-defrosts'),\n",
    "            'temperatureField',\n",
    "            'max'\n",
    "            ),\n",
    "        'materialVar': planetengine.initials.extents.IC(\n",
    "            (1, planetengine.shapes.trapezoid(\n",
    "                longwidth = 0.3,\n",
    "                lengthRatio = 0.8,\n",
    "                thickness = 0.05\n",
    "                ))\n",
    "            )\n",
    "        },\n",
    "    outputPath = outputPath\n",
    "    )"
   ]
  },
  {
   "cell_type": "code",
   "execution_count": null,
   "metadata": {},
   "outputs": [],
   "source": [
    "MS98X.report()"
   ]
  },
  {
   "cell_type": "code",
   "execution_count": null,
   "metadata": {},
   "outputs": [],
   "source": [
    "%%sh\n",
    "umask 0000\n",
    "mpirun -np 4 python runscript_001.py"
   ]
  },
  {
   "cell_type": "code",
   "execution_count": null,
   "metadata": {},
   "outputs": [],
   "source": [
    "%%sh\n",
    "umask 0000\n",
    "mpirun -np 4 python runscript_002.py"
   ]
  },
  {
   "cell_type": "code",
   "execution_count": null,
   "metadata": {},
   "outputs": [],
   "source": [
    "import os\n",
    "\n",
    "os.path.exists('/workspace/user_data/data/tests/dev/pemod_anisopodal-craftiest/inputs.txt')"
   ]
  },
  {
   "cell_type": "code",
   "execution_count": null,
   "metadata": {},
   "outputs": [],
   "source": []
  }
 ],
 "metadata": {
  "kernelspec": {
   "display_name": "Python 3",
   "language": "python",
   "name": "python3"
  },
  "language_info": {
   "codemirror_mode": {
    "name": "ipython",
    "version": 3
   },
   "file_extension": ".py",
   "mimetype": "text/x-python",
   "name": "python",
   "nbconvert_exporter": "python",
   "pygments_lexer": "ipython3",
   "version": "3.5.3"
  }
 },
 "nbformat": 4,
 "nbformat_minor": 2
}
