{
 "cells": [
  {
   "cell_type": "code",
   "execution_count": 1,
   "metadata": {},
   "outputs": [],
   "source": [
    "import sys\n",
    "sys.path.append('..')"
   ]
  },
  {
   "cell_type": "code",
   "execution_count": 2,
   "metadata": {},
   "outputs": [],
   "source": [
    "import planetengine\n",
    "import numpy as np"
   ]
  },
  {
   "cell_type": "code",
   "execution_count": 3,
   "metadata": {},
   "outputs": [],
   "source": [
    "from modelscripts import MS98X_systemscript as systemscript\n",
    "from modelscripts import MS98X_observerscript as observerscript\n",
    "from planetengine import shapes\n",
    "from planetengine.utilities import quickShow"
   ]
  },
  {
   "cell_type": "code",
   "execution_count": 4,
   "metadata": {},
   "outputs": [],
   "source": [
    "outputPath = '../data/test'"
   ]
  },
  {
   "cell_type": "code",
   "execution_count": 5,
   "metadata": {},
   "outputs": [],
   "source": [
    "system = systemscript.build(res = 16)\n",
    "observer = observerscript.build()\n",
    "tempIC = planetengine.initials.sinusoidal.IC()"
   ]
  },
  {
   "cell_type": "code",
   "execution_count": 6,
   "metadata": {},
   "outputs": [],
   "source": [
    "continent = shapes.trapezoid(taper = 0.5, thickness = 0.02)\n",
    "materialIC = planetengine.initials.extents.IC((1, continent))"
   ]
  },
  {
   "cell_type": "code",
   "execution_count": 7,
   "metadata": {},
   "outputs": [],
   "source": [
    "initial = {'temperatureField': tempIC, 'materialVar': materialIC}"
   ]
  },
  {
   "cell_type": "code",
   "execution_count": 8,
   "metadata": {},
   "outputs": [
    {
     "name": "stdout",
     "output_type": "stream",
     "text": [
      "Initialising...\n",
      "Initialisation complete!\n"
     ]
    }
   ],
   "source": [
    "model = planetengine.frame.Frame(\n",
    "    system = system,\n",
    "    observer = observer,\n",
    "    initial = initial,\n",
    "    outputPath = outputPath\n",
    "    )"
   ]
  },
  {
   "cell_type": "code",
   "execution_count": 9,
   "metadata": {},
   "outputs": [
    {
     "data": {
      "text/plain": [
       "'../data/test/pemod_21d6112a38aae78f19d71c3c2b2703dc'"
      ]
     },
     "execution_count": 9,
     "metadata": {},
     "output_type": "execute_result"
    }
   ],
   "source": [
    "model.path"
   ]
  },
  {
   "cell_type": "code",
   "execution_count": 10,
   "metadata": {},
   "outputs": [
    {
     "data": {
      "text/plain": [
       "'pemod_21d6112a38aae78f19d71c3c2b2703dc'"
      ]
     },
     "execution_count": 10,
     "metadata": {},
     "output_type": "execute_result"
    }
   ],
   "source": [
    "model.hashID"
   ]
  },
  {
   "cell_type": "code",
   "execution_count": 11,
   "metadata": {},
   "outputs": [
    {
     "name": "stdout",
     "output_type": "stream",
     "text": [
      "Collecting...\n",
      "Analysing...\n",
      "Analysis complete!\n",
      "Collecting complete!\n",
      "Pre-existing directory for this model has been found. Continuing...\n",
      "Checkpointing...\n",
      "Checkpoint directory found: skipping.\n"
     ]
    }
   ],
   "source": [
    "model.checkpoint()"
   ]
  },
  {
   "cell_type": "code",
   "execution_count": 12,
   "metadata": {},
   "outputs": [
    {
     "name": "stdout",
     "output_type": "stream",
     "text": [
      "Loading checkpoint...\n",
      "Already at step  0  - aborting load_checkpoint.\n",
      "Initialising...\n",
      "Initialisation complete!\n"
     ]
    }
   ],
   "source": [
    "tempIC = planetengine.initials.load.IC(model, 'temperatureField')\n",
    "materialIC = planetengine.initials.load.IC(model.path, 'materialVar')"
   ]
  },
  {
   "cell_type": "code",
   "execution_count": 13,
   "metadata": {},
   "outputs": [],
   "source": [
    "initial = {'temperatureField': tempIC, 'materialVar': materialIC}"
   ]
  },
  {
   "cell_type": "code",
   "execution_count": 14,
   "metadata": {
    "scrolled": true
   },
   "outputs": [
    {
     "name": "stdout",
     "output_type": "stream",
     "text": [
      "Collecting...\n",
      "Collecting complete!\n",
      "Initialising...\n",
      "Mapping achieved at tolerance =\n",
      "0.0\n",
      "Mapping achieved at tolerance =\n",
      "0.0\n",
      "Initialisation complete!\n"
     ]
    }
   ],
   "source": [
    "model2 = planetengine.frame.Frame(\n",
    "    system = system,\n",
    "    observer = observer,\n",
    "    initial = initial,\n",
    "    outputPath = outputPath\n",
    "    )"
   ]
  },
  {
   "cell_type": "code",
   "execution_count": 15,
   "metadata": {
    "scrolled": true
   },
   "outputs": [
    {
     "name": "stdout",
     "output_type": "stream",
     "text": [
      "Collecting...\n",
      "Analysing...\n",
      "Analysis complete!\n",
      "Collecting complete!\n",
      "Pre-existing directory for this model has been found. Continuing...\n",
      "Checkpointing...\n",
      "Saving figures...\n",
      "Saved.\n",
      "Saving vars of state...\n",
      "Attaching...\n",
      "Done!\n",
      "Saving substrate to disk: \n",
      "swarm\n",
      "Saving var to disk: \n",
      "materialVar\n",
      "Saving substrate to disk: \n",
      "mesh\n",
      "Saving var to disk: \n",
      "temperatureField\n",
      "Saved.\n",
      "Saving snapshot...\n",
      "Saved.\n",
      "Saving stamps...\n",
      "Saved.\n",
      "Saving datasets...\n",
      "Saved.\n",
      "Checkpointed!\n"
     ]
    }
   ],
   "source": [
    "model2.checkpoint()"
   ]
  },
  {
   "cell_type": "code",
   "execution_count": 16,
   "metadata": {},
   "outputs": [
    {
     "name": "stdout",
     "output_type": "stream",
     "text": [
      "Loading checkpoint...\n",
      "Already at step  0  - aborting load_checkpoint.\n",
      "Initialising...\n",
      "Initialisation complete!\n",
      "Initialising...\n",
      "Initialisation complete!\n",
      "Initialising...\n",
      "Mapping achieved at tolerance =\n",
      "0.0\n",
      "Mapping achieved at tolerance =\n",
      "0.0\n",
      "Initialisation complete!\n"
     ]
    }
   ],
   "source": [
    "tempIC = planetengine.initials.load.IC(model2, 'temperatureField')\n",
    "materialIC = planetengine.initials.load.IC(model2.path, 'materialVar')"
   ]
  },
  {
   "cell_type": "code",
   "execution_count": 17,
   "metadata": {},
   "outputs": [],
   "source": [
    "initial = {'temperatureField': tempIC, 'materialVar': materialIC}"
   ]
  },
  {
   "cell_type": "code",
   "execution_count": 18,
   "metadata": {},
   "outputs": [
    {
     "name": "stdout",
     "output_type": "stream",
     "text": [
      "Collecting...\n",
      "Collecting complete!\n",
      "Collecting...\n",
      "Collecting complete!\n",
      "Initialising...\n",
      "Mapping achieved at tolerance =\n",
      "0.0\n",
      "Mapping achieved at tolerance =\n",
      "0.0\n",
      "Initialisation complete!\n"
     ]
    }
   ],
   "source": [
    "model3 = planetengine.frame.Frame(\n",
    "    system = system,\n",
    "    observer = observer,\n",
    "    initial = initial,\n",
    "    outputPath = outputPath\n",
    "    )"
   ]
  },
  {
   "cell_type": "code",
   "execution_count": 19,
   "metadata": {
    "scrolled": true
   },
   "outputs": [
    {
     "name": "stdout",
     "output_type": "stream",
     "text": [
      "Collecting...\n",
      "Analysing...\n",
      "Analysis complete!\n",
      "Collecting complete!\n",
      "No pre-existing directory for this model found. Making a new one...\n",
      "Saving inFrames...\n",
      "No pre-existing directory for this model found. Making a new one...\n",
      "Saving inFrames...\n",
      "No pre-existing directory for this model found. Making a new one...\n",
      "Checkpointing...\n",
      "Saving figures...\n",
      "Saved.\n",
      "Saving vars of state...\n",
      "Saving substrate to disk: \n",
      "swarm\n",
      "Saving var to disk: \n",
      "materialVar\n",
      "Saving substrate to disk: \n",
      "mesh\n",
      "Saving var to disk: \n",
      "temperatureField\n",
      "Saved.\n",
      "Saving snapshot...\n",
      "Saved.\n",
      "Saving stamps...\n",
      "Saved.\n",
      "Saving datasets...\n",
      "Saved.\n",
      "Checkpointed!\n",
      "inFrames saved.\n",
      "Checkpointing...\n",
      "Saving figures...\n",
      "Saved.\n",
      "Saving vars of state...\n",
      "Saving substrate to disk: \n",
      "swarm\n",
      "Saving var to disk: \n",
      "materialVar\n",
      "Saving substrate to disk: \n",
      "mesh\n",
      "Saving var to disk: \n",
      "temperatureField\n",
      "Saved.\n",
      "Saving snapshot...\n",
      "Saved.\n",
      "Saving stamps...\n",
      "Saved.\n",
      "Saving datasets...\n",
      "Saved.\n",
      "Checkpointed!\n",
      "inFrames saved.\n",
      "Checkpointing...\n",
      "Saving figures...\n",
      "Saved.\n",
      "Saving vars of state...\n",
      "Saving substrate to disk: \n",
      "swarm\n",
      "Saving var to disk: \n",
      "materialVar\n",
      "Saving substrate to disk: \n",
      "mesh\n",
      "Saving var to disk: \n",
      "temperatureField\n",
      "Saved.\n",
      "Saving snapshot...\n",
      "Saved.\n",
      "Saving stamps...\n",
      "Saved.\n",
      "Saving datasets...\n",
      "Saved.\n",
      "Checkpointed!\n"
     ]
    }
   ],
   "source": [
    "model3.checkpoint()"
   ]
  },
  {
   "cell_type": "code",
   "execution_count": null,
   "metadata": {},
   "outputs": [],
   "source": []
  }
 ],
 "metadata": {
  "kernelspec": {
   "display_name": "Python 3",
   "language": "python",
   "name": "python3"
  },
  "language_info": {
   "codemirror_mode": {
    "name": "ipython",
    "version": 3
   },
   "file_extension": ".py",
   "mimetype": "text/x-python",
   "name": "python",
   "nbconvert_exporter": "python",
   "pygments_lexer": "ipython3",
   "version": "3.5.3"
  }
 },
 "nbformat": 4,
 "nbformat_minor": 2
}
