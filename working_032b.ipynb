{
 "cells": [
  {
   "cell_type": "code",
   "execution_count": 3,
   "metadata": {},
   "outputs": [],
   "source": [
    "import os"
   ]
  },
  {
   "cell_type": "code",
   "execution_count": 4,
   "metadata": {},
   "outputs": [],
   "source": [
    "# figsdir = '/workspace/user_data/data/donutfrequency/allfigs'\n",
    "figsdir = '/workspace/user_data/data/donutfrequency/Neptune/allfigs'\n",
    "figpaths = []\n",
    "for filename in sorted(os.listdir(figsdir)):\n",
    "    if os.path.splitext(filename)[1] == '.png':\n",
    "        newdir = 'http://127.0.0.1:8888/notebooks/user_data/data/donutfrequency/Neptune/allfigs'\n",
    "        newfigname = os.path.join(newdir, filename)\n",
    "        figpaths.append(newfigname)"
   ]
  },
  {
   "cell_type": "code",
   "execution_count": 5,
   "metadata": {
    "scrolled": true
   },
   "outputs": [
    {
     "data": {
      "text/plain": [
       "['http://127.0.0.1:8888/notebooks/user_data/data/donutfrequency/Neptune/allfigs/fig_000.png',\n",
       " 'http://127.0.0.1:8888/notebooks/user_data/data/donutfrequency/Neptune/allfigs/fig_001.png',\n",
       " 'http://127.0.0.1:8888/notebooks/user_data/data/donutfrequency/Neptune/allfigs/fig_002.png',\n",
       " 'http://127.0.0.1:8888/notebooks/user_data/data/donutfrequency/Neptune/allfigs/fig_003.png',\n",
       " 'http://127.0.0.1:8888/notebooks/user_data/data/donutfrequency/Neptune/allfigs/fig_004.png',\n",
       " 'http://127.0.0.1:8888/notebooks/user_data/data/donutfrequency/Neptune/allfigs/fig_005.png',\n",
       " 'http://127.0.0.1:8888/notebooks/user_data/data/donutfrequency/Neptune/allfigs/fig_006.png',\n",
       " 'http://127.0.0.1:8888/notebooks/user_data/data/donutfrequency/Neptune/allfigs/fig_007.png',\n",
       " 'http://127.0.0.1:8888/notebooks/user_data/data/donutfrequency/Neptune/allfigs/fig_008.png',\n",
       " 'http://127.0.0.1:8888/notebooks/user_data/data/donutfrequency/Neptune/allfigs/fig_009.png',\n",
       " 'http://127.0.0.1:8888/notebooks/user_data/data/donutfrequency/Neptune/allfigs/fig_010.png',\n",
       " 'http://127.0.0.1:8888/notebooks/user_data/data/donutfrequency/Neptune/allfigs/fig_011.png',\n",
       " 'http://127.0.0.1:8888/notebooks/user_data/data/donutfrequency/Neptune/allfigs/fig_012.png',\n",
       " 'http://127.0.0.1:8888/notebooks/user_data/data/donutfrequency/Neptune/allfigs/fig_013.png',\n",
       " 'http://127.0.0.1:8888/notebooks/user_data/data/donutfrequency/Neptune/allfigs/fig_014.png',\n",
       " 'http://127.0.0.1:8888/notebooks/user_data/data/donutfrequency/Neptune/allfigs/fig_015.png',\n",
       " 'http://127.0.0.1:8888/notebooks/user_data/data/donutfrequency/Neptune/allfigs/fig_016.png',\n",
       " 'http://127.0.0.1:8888/notebooks/user_data/data/donutfrequency/Neptune/allfigs/fig_017.png',\n",
       " 'http://127.0.0.1:8888/notebooks/user_data/data/donutfrequency/Neptune/allfigs/fig_018.png',\n",
       " 'http://127.0.0.1:8888/notebooks/user_data/data/donutfrequency/Neptune/allfigs/fig_019.png',\n",
       " 'http://127.0.0.1:8888/notebooks/user_data/data/donutfrequency/Neptune/allfigs/fig_020.png',\n",
       " 'http://127.0.0.1:8888/notebooks/user_data/data/donutfrequency/Neptune/allfigs/fig_021.png',\n",
       " 'http://127.0.0.1:8888/notebooks/user_data/data/donutfrequency/Neptune/allfigs/fig_022.png',\n",
       " 'http://127.0.0.1:8888/notebooks/user_data/data/donutfrequency/Neptune/allfigs/fig_023.png',\n",
       " 'http://127.0.0.1:8888/notebooks/user_data/data/donutfrequency/Neptune/allfigs/fig_024.png',\n",
       " 'http://127.0.0.1:8888/notebooks/user_data/data/donutfrequency/Neptune/allfigs/fig_025.png',\n",
       " 'http://127.0.0.1:8888/notebooks/user_data/data/donutfrequency/Neptune/allfigs/fig_026.png',\n",
       " 'http://127.0.0.1:8888/notebooks/user_data/data/donutfrequency/Neptune/allfigs/fig_027.png',\n",
       " 'http://127.0.0.1:8888/notebooks/user_data/data/donutfrequency/Neptune/allfigs/fig_028.png',\n",
       " 'http://127.0.0.1:8888/notebooks/user_data/data/donutfrequency/Neptune/allfigs/fig_029.png',\n",
       " 'http://127.0.0.1:8888/notebooks/user_data/data/donutfrequency/Neptune/allfigs/fig_030.png',\n",
       " 'http://127.0.0.1:8888/notebooks/user_data/data/donutfrequency/Neptune/allfigs/fig_031.png',\n",
       " 'http://127.0.0.1:8888/notebooks/user_data/data/donutfrequency/Neptune/allfigs/fig_032.png',\n",
       " 'http://127.0.0.1:8888/notebooks/user_data/data/donutfrequency/Neptune/allfigs/fig_033.png',\n",
       " 'http://127.0.0.1:8888/notebooks/user_data/data/donutfrequency/Neptune/allfigs/fig_034.png',\n",
       " 'http://127.0.0.1:8888/notebooks/user_data/data/donutfrequency/Neptune/allfigs/fig_035.png',\n",
       " 'http://127.0.0.1:8888/notebooks/user_data/data/donutfrequency/Neptune/allfigs/fig_036.png',\n",
       " 'http://127.0.0.1:8888/notebooks/user_data/data/donutfrequency/Neptune/allfigs/fig_037.png',\n",
       " 'http://127.0.0.1:8888/notebooks/user_data/data/donutfrequency/Neptune/allfigs/fig_038.png',\n",
       " 'http://127.0.0.1:8888/notebooks/user_data/data/donutfrequency/Neptune/allfigs/fig_039.png',\n",
       " 'http://127.0.0.1:8888/notebooks/user_data/data/donutfrequency/Neptune/allfigs/fig_040.png',\n",
       " 'http://127.0.0.1:8888/notebooks/user_data/data/donutfrequency/Neptune/allfigs/fig_041.png',\n",
       " 'http://127.0.0.1:8888/notebooks/user_data/data/donutfrequency/Neptune/allfigs/fig_042.png',\n",
       " 'http://127.0.0.1:8888/notebooks/user_data/data/donutfrequency/Neptune/allfigs/fig_043.png',\n",
       " 'http://127.0.0.1:8888/notebooks/user_data/data/donutfrequency/Neptune/allfigs/fig_044.png',\n",
       " 'http://127.0.0.1:8888/notebooks/user_data/data/donutfrequency/Neptune/allfigs/fig_045.png',\n",
       " 'http://127.0.0.1:8888/notebooks/user_data/data/donutfrequency/Neptune/allfigs/fig_046.png',\n",
       " 'http://127.0.0.1:8888/notebooks/user_data/data/donutfrequency/Neptune/allfigs/fig_047.png',\n",
       " 'http://127.0.0.1:8888/notebooks/user_data/data/donutfrequency/Neptune/allfigs/fig_048.png',\n",
       " 'http://127.0.0.1:8888/notebooks/user_data/data/donutfrequency/Neptune/allfigs/fig_049.png',\n",
       " 'http://127.0.0.1:8888/notebooks/user_data/data/donutfrequency/Neptune/allfigs/fig_050.png',\n",
       " 'http://127.0.0.1:8888/notebooks/user_data/data/donutfrequency/Neptune/allfigs/fig_051.png',\n",
       " 'http://127.0.0.1:8888/notebooks/user_data/data/donutfrequency/Neptune/allfigs/fig_052.png',\n",
       " 'http://127.0.0.1:8888/notebooks/user_data/data/donutfrequency/Neptune/allfigs/fig_053.png',\n",
       " 'http://127.0.0.1:8888/notebooks/user_data/data/donutfrequency/Neptune/allfigs/fig_054.png',\n",
       " 'http://127.0.0.1:8888/notebooks/user_data/data/donutfrequency/Neptune/allfigs/fig_055.png']"
      ]
     },
     "execution_count": 5,
     "metadata": {},
     "output_type": "execute_result"
    }
   ],
   "source": [
    "figpaths"
   ]
  },
  {
   "cell_type": "code",
   "execution_count": 6,
   "metadata": {},
   "outputs": [],
   "source": [
    "def chunks(l, n):\n",
    "    \"\"\"Yield successive n-sized chunks from l.\"\"\"\n",
    "    for i in range(0, len(l), n):\n",
    "        yield l[i:i + n]\n",
    "figsgrid = list(chunks(figpaths, 7))"
   ]
  },
  {
   "cell_type": "code",
   "execution_count": 40,
   "metadata": {},
   "outputs": [],
   "source": [
    "figure = ''\n",
    "rows = 7\n",
    "cols = 8\n",
    "figure += '<html>'\n",
    "figure += '<head>'\n",
    "figure += '<style>'\n",
    "figure += '</style>'\n",
    "figure += '</head>'\n",
    "figure += '<body>'\n",
    "figure += '<table style=\"border:1px solid black; border-collapse: collapse;\">'\n",
    "for row in range(rows):\n",
    "    figure += '<tr>'\n",
    "    for col in range(cols):\n",
    "        figure += '<td style=\"padding: 0;\">'\n",
    "        figure += '<img src='\n",
    "        figure += '\"' + figsgrid[col][row] + '\"'\n",
    "        figure += '>'\n",
    "        figure += '</td>'\n",
    "    figure += '</tr>'\n",
    "figure += '</table>'\n",
    "figure += '</body>'\n",
    "figure += '</html>'"
   ]
  },
  {
   "cell_type": "code",
   "execution_count": 41,
   "metadata": {
    "scrolled": true
   },
   "outputs": [
    {
     "data": {
      "text/plain": [
       "'<html><head><style></style></head><body><table style=\"border:1px solid black; border-collapse: collapse;\"><tr><td style=\"padding: 0;\"><img src=\"http://127.0.0.1:8888/notebooks/user_data/data/donutfrequency/Neptune/allfigs/fig_000.png\"></td><td style=\"padding: 0;\"><img src=\"http://127.0.0.1:8888/notebooks/user_data/data/donutfrequency/Neptune/allfigs/fig_007.png\"></td><td style=\"padding: 0;\"><img src=\"http://127.0.0.1:8888/notebooks/user_data/data/donutfrequency/Neptune/allfigs/fig_014.png\"></td><td style=\"padding: 0;\"><img src=\"http://127.0.0.1:8888/notebooks/user_data/data/donutfrequency/Neptune/allfigs/fig_021.png\"></td><td style=\"padding: 0;\"><img src=\"http://127.0.0.1:8888/notebooks/user_data/data/donutfrequency/Neptune/allfigs/fig_028.png\"></td><td style=\"padding: 0;\"><img src=\"http://127.0.0.1:8888/notebooks/user_data/data/donutfrequency/Neptune/allfigs/fig_035.png\"></td><td style=\"padding: 0;\"><img src=\"http://127.0.0.1:8888/notebooks/user_data/data/donutfrequency/Neptune/allfigs/fig_042.png\"></td><td style=\"padding: 0;\"><img src=\"http://127.0.0.1:8888/notebooks/user_data/data/donutfrequency/Neptune/allfigs/fig_049.png\"></td></tr><tr><td style=\"padding: 0;\"><img src=\"http://127.0.0.1:8888/notebooks/user_data/data/donutfrequency/Neptune/allfigs/fig_001.png\"></td><td style=\"padding: 0;\"><img src=\"http://127.0.0.1:8888/notebooks/user_data/data/donutfrequency/Neptune/allfigs/fig_008.png\"></td><td style=\"padding: 0;\"><img src=\"http://127.0.0.1:8888/notebooks/user_data/data/donutfrequency/Neptune/allfigs/fig_015.png\"></td><td style=\"padding: 0;\"><img src=\"http://127.0.0.1:8888/notebooks/user_data/data/donutfrequency/Neptune/allfigs/fig_022.png\"></td><td style=\"padding: 0;\"><img src=\"http://127.0.0.1:8888/notebooks/user_data/data/donutfrequency/Neptune/allfigs/fig_029.png\"></td><td style=\"padding: 0;\"><img src=\"http://127.0.0.1:8888/notebooks/user_data/data/donutfrequency/Neptune/allfigs/fig_036.png\"></td><td style=\"padding: 0;\"><img src=\"http://127.0.0.1:8888/notebooks/user_data/data/donutfrequency/Neptune/allfigs/fig_043.png\"></td><td style=\"padding: 0;\"><img src=\"http://127.0.0.1:8888/notebooks/user_data/data/donutfrequency/Neptune/allfigs/fig_050.png\"></td></tr><tr><td style=\"padding: 0;\"><img src=\"http://127.0.0.1:8888/notebooks/user_data/data/donutfrequency/Neptune/allfigs/fig_002.png\"></td><td style=\"padding: 0;\"><img src=\"http://127.0.0.1:8888/notebooks/user_data/data/donutfrequency/Neptune/allfigs/fig_009.png\"></td><td style=\"padding: 0;\"><img src=\"http://127.0.0.1:8888/notebooks/user_data/data/donutfrequency/Neptune/allfigs/fig_016.png\"></td><td style=\"padding: 0;\"><img src=\"http://127.0.0.1:8888/notebooks/user_data/data/donutfrequency/Neptune/allfigs/fig_023.png\"></td><td style=\"padding: 0;\"><img src=\"http://127.0.0.1:8888/notebooks/user_data/data/donutfrequency/Neptune/allfigs/fig_030.png\"></td><td style=\"padding: 0;\"><img src=\"http://127.0.0.1:8888/notebooks/user_data/data/donutfrequency/Neptune/allfigs/fig_037.png\"></td><td style=\"padding: 0;\"><img src=\"http://127.0.0.1:8888/notebooks/user_data/data/donutfrequency/Neptune/allfigs/fig_044.png\"></td><td style=\"padding: 0;\"><img src=\"http://127.0.0.1:8888/notebooks/user_data/data/donutfrequency/Neptune/allfigs/fig_051.png\"></td></tr><tr><td style=\"padding: 0;\"><img src=\"http://127.0.0.1:8888/notebooks/user_data/data/donutfrequency/Neptune/allfigs/fig_003.png\"></td><td style=\"padding: 0;\"><img src=\"http://127.0.0.1:8888/notebooks/user_data/data/donutfrequency/Neptune/allfigs/fig_010.png\"></td><td style=\"padding: 0;\"><img src=\"http://127.0.0.1:8888/notebooks/user_data/data/donutfrequency/Neptune/allfigs/fig_017.png\"></td><td style=\"padding: 0;\"><img src=\"http://127.0.0.1:8888/notebooks/user_data/data/donutfrequency/Neptune/allfigs/fig_024.png\"></td><td style=\"padding: 0;\"><img src=\"http://127.0.0.1:8888/notebooks/user_data/data/donutfrequency/Neptune/allfigs/fig_031.png\"></td><td style=\"padding: 0;\"><img src=\"http://127.0.0.1:8888/notebooks/user_data/data/donutfrequency/Neptune/allfigs/fig_038.png\"></td><td style=\"padding: 0;\"><img src=\"http://127.0.0.1:8888/notebooks/user_data/data/donutfrequency/Neptune/allfigs/fig_045.png\"></td><td style=\"padding: 0;\"><img src=\"http://127.0.0.1:8888/notebooks/user_data/data/donutfrequency/Neptune/allfigs/fig_052.png\"></td></tr><tr><td style=\"padding: 0;\"><img src=\"http://127.0.0.1:8888/notebooks/user_data/data/donutfrequency/Neptune/allfigs/fig_004.png\"></td><td style=\"padding: 0;\"><img src=\"http://127.0.0.1:8888/notebooks/user_data/data/donutfrequency/Neptune/allfigs/fig_011.png\"></td><td style=\"padding: 0;\"><img src=\"http://127.0.0.1:8888/notebooks/user_data/data/donutfrequency/Neptune/allfigs/fig_018.png\"></td><td style=\"padding: 0;\"><img src=\"http://127.0.0.1:8888/notebooks/user_data/data/donutfrequency/Neptune/allfigs/fig_025.png\"></td><td style=\"padding: 0;\"><img src=\"http://127.0.0.1:8888/notebooks/user_data/data/donutfrequency/Neptune/allfigs/fig_032.png\"></td><td style=\"padding: 0;\"><img src=\"http://127.0.0.1:8888/notebooks/user_data/data/donutfrequency/Neptune/allfigs/fig_039.png\"></td><td style=\"padding: 0;\"><img src=\"http://127.0.0.1:8888/notebooks/user_data/data/donutfrequency/Neptune/allfigs/fig_046.png\"></td><td style=\"padding: 0;\"><img src=\"http://127.0.0.1:8888/notebooks/user_data/data/donutfrequency/Neptune/allfigs/fig_053.png\"></td></tr><tr><td style=\"padding: 0;\"><img src=\"http://127.0.0.1:8888/notebooks/user_data/data/donutfrequency/Neptune/allfigs/fig_005.png\"></td><td style=\"padding: 0;\"><img src=\"http://127.0.0.1:8888/notebooks/user_data/data/donutfrequency/Neptune/allfigs/fig_012.png\"></td><td style=\"padding: 0;\"><img src=\"http://127.0.0.1:8888/notebooks/user_data/data/donutfrequency/Neptune/allfigs/fig_019.png\"></td><td style=\"padding: 0;\"><img src=\"http://127.0.0.1:8888/notebooks/user_data/data/donutfrequency/Neptune/allfigs/fig_026.png\"></td><td style=\"padding: 0;\"><img src=\"http://127.0.0.1:8888/notebooks/user_data/data/donutfrequency/Neptune/allfigs/fig_033.png\"></td><td style=\"padding: 0;\"><img src=\"http://127.0.0.1:8888/notebooks/user_data/data/donutfrequency/Neptune/allfigs/fig_040.png\"></td><td style=\"padding: 0;\"><img src=\"http://127.0.0.1:8888/notebooks/user_data/data/donutfrequency/Neptune/allfigs/fig_047.png\"></td><td style=\"padding: 0;\"><img src=\"http://127.0.0.1:8888/notebooks/user_data/data/donutfrequency/Neptune/allfigs/fig_054.png\"></td></tr><tr><td style=\"padding: 0;\"><img src=\"http://127.0.0.1:8888/notebooks/user_data/data/donutfrequency/Neptune/allfigs/fig_006.png\"></td><td style=\"padding: 0;\"><img src=\"http://127.0.0.1:8888/notebooks/user_data/data/donutfrequency/Neptune/allfigs/fig_013.png\"></td><td style=\"padding: 0;\"><img src=\"http://127.0.0.1:8888/notebooks/user_data/data/donutfrequency/Neptune/allfigs/fig_020.png\"></td><td style=\"padding: 0;\"><img src=\"http://127.0.0.1:8888/notebooks/user_data/data/donutfrequency/Neptune/allfigs/fig_027.png\"></td><td style=\"padding: 0;\"><img src=\"http://127.0.0.1:8888/notebooks/user_data/data/donutfrequency/Neptune/allfigs/fig_034.png\"></td><td style=\"padding: 0;\"><img src=\"http://127.0.0.1:8888/notebooks/user_data/data/donutfrequency/Neptune/allfigs/fig_041.png\"></td><td style=\"padding: 0;\"><img src=\"http://127.0.0.1:8888/notebooks/user_data/data/donutfrequency/Neptune/allfigs/fig_048.png\"></td><td style=\"padding: 0;\"><img src=\"http://127.0.0.1:8888/notebooks/user_data/data/donutfrequency/Neptune/allfigs/fig_055.png\"></td></tr></table></body></html>'"
      ]
     },
     "execution_count": 41,
     "metadata": {},
     "output_type": "execute_result"
    }
   ],
   "source": [
    "figure"
   ]
  },
  {
   "cell_type": "code",
   "execution_count": 42,
   "metadata": {},
   "outputs": [],
   "source": [
    "from IPython.core.display import HTML"
   ]
  },
  {
   "cell_type": "code",
   "execution_count": 43,
   "metadata": {
    "scrolled": false
   },
   "outputs": [
    {
     "data": {
      "text/html": [
       "<html><head><style></style></head><body><table style=\"border:1px solid black; border-collapse: collapse;\"><tr><td style=\"padding: 0;\"><img src=\"http://127.0.0.1:8888/notebooks/user_data/data/donutfrequency/Neptune/allfigs/fig_000.png\"></td><td style=\"padding: 0;\"><img src=\"http://127.0.0.1:8888/notebooks/user_data/data/donutfrequency/Neptune/allfigs/fig_007.png\"></td><td style=\"padding: 0;\"><img src=\"http://127.0.0.1:8888/notebooks/user_data/data/donutfrequency/Neptune/allfigs/fig_014.png\"></td><td style=\"padding: 0;\"><img src=\"http://127.0.0.1:8888/notebooks/user_data/data/donutfrequency/Neptune/allfigs/fig_021.png\"></td><td style=\"padding: 0;\"><img src=\"http://127.0.0.1:8888/notebooks/user_data/data/donutfrequency/Neptune/allfigs/fig_028.png\"></td><td style=\"padding: 0;\"><img src=\"http://127.0.0.1:8888/notebooks/user_data/data/donutfrequency/Neptune/allfigs/fig_035.png\"></td><td style=\"padding: 0;\"><img src=\"http://127.0.0.1:8888/notebooks/user_data/data/donutfrequency/Neptune/allfigs/fig_042.png\"></td><td style=\"padding: 0;\"><img src=\"http://127.0.0.1:8888/notebooks/user_data/data/donutfrequency/Neptune/allfigs/fig_049.png\"></td></tr><tr><td style=\"padding: 0;\"><img src=\"http://127.0.0.1:8888/notebooks/user_data/data/donutfrequency/Neptune/allfigs/fig_001.png\"></td><td style=\"padding: 0;\"><img src=\"http://127.0.0.1:8888/notebooks/user_data/data/donutfrequency/Neptune/allfigs/fig_008.png\"></td><td style=\"padding: 0;\"><img src=\"http://127.0.0.1:8888/notebooks/user_data/data/donutfrequency/Neptune/allfigs/fig_015.png\"></td><td style=\"padding: 0;\"><img src=\"http://127.0.0.1:8888/notebooks/user_data/data/donutfrequency/Neptune/allfigs/fig_022.png\"></td><td style=\"padding: 0;\"><img src=\"http://127.0.0.1:8888/notebooks/user_data/data/donutfrequency/Neptune/allfigs/fig_029.png\"></td><td style=\"padding: 0;\"><img src=\"http://127.0.0.1:8888/notebooks/user_data/data/donutfrequency/Neptune/allfigs/fig_036.png\"></td><td style=\"padding: 0;\"><img src=\"http://127.0.0.1:8888/notebooks/user_data/data/donutfrequency/Neptune/allfigs/fig_043.png\"></td><td style=\"padding: 0;\"><img src=\"http://127.0.0.1:8888/notebooks/user_data/data/donutfrequency/Neptune/allfigs/fig_050.png\"></td></tr><tr><td style=\"padding: 0;\"><img src=\"http://127.0.0.1:8888/notebooks/user_data/data/donutfrequency/Neptune/allfigs/fig_002.png\"></td><td style=\"padding: 0;\"><img src=\"http://127.0.0.1:8888/notebooks/user_data/data/donutfrequency/Neptune/allfigs/fig_009.png\"></td><td style=\"padding: 0;\"><img src=\"http://127.0.0.1:8888/notebooks/user_data/data/donutfrequency/Neptune/allfigs/fig_016.png\"></td><td style=\"padding: 0;\"><img src=\"http://127.0.0.1:8888/notebooks/user_data/data/donutfrequency/Neptune/allfigs/fig_023.png\"></td><td style=\"padding: 0;\"><img src=\"http://127.0.0.1:8888/notebooks/user_data/data/donutfrequency/Neptune/allfigs/fig_030.png\"></td><td style=\"padding: 0;\"><img src=\"http://127.0.0.1:8888/notebooks/user_data/data/donutfrequency/Neptune/allfigs/fig_037.png\"></td><td style=\"padding: 0;\"><img src=\"http://127.0.0.1:8888/notebooks/user_data/data/donutfrequency/Neptune/allfigs/fig_044.png\"></td><td style=\"padding: 0;\"><img src=\"http://127.0.0.1:8888/notebooks/user_data/data/donutfrequency/Neptune/allfigs/fig_051.png\"></td></tr><tr><td style=\"padding: 0;\"><img src=\"http://127.0.0.1:8888/notebooks/user_data/data/donutfrequency/Neptune/allfigs/fig_003.png\"></td><td style=\"padding: 0;\"><img src=\"http://127.0.0.1:8888/notebooks/user_data/data/donutfrequency/Neptune/allfigs/fig_010.png\"></td><td style=\"padding: 0;\"><img src=\"http://127.0.0.1:8888/notebooks/user_data/data/donutfrequency/Neptune/allfigs/fig_017.png\"></td><td style=\"padding: 0;\"><img src=\"http://127.0.0.1:8888/notebooks/user_data/data/donutfrequency/Neptune/allfigs/fig_024.png\"></td><td style=\"padding: 0;\"><img src=\"http://127.0.0.1:8888/notebooks/user_data/data/donutfrequency/Neptune/allfigs/fig_031.png\"></td><td style=\"padding: 0;\"><img src=\"http://127.0.0.1:8888/notebooks/user_data/data/donutfrequency/Neptune/allfigs/fig_038.png\"></td><td style=\"padding: 0;\"><img src=\"http://127.0.0.1:8888/notebooks/user_data/data/donutfrequency/Neptune/allfigs/fig_045.png\"></td><td style=\"padding: 0;\"><img src=\"http://127.0.0.1:8888/notebooks/user_data/data/donutfrequency/Neptune/allfigs/fig_052.png\"></td></tr><tr><td style=\"padding: 0;\"><img src=\"http://127.0.0.1:8888/notebooks/user_data/data/donutfrequency/Neptune/allfigs/fig_004.png\"></td><td style=\"padding: 0;\"><img src=\"http://127.0.0.1:8888/notebooks/user_data/data/donutfrequency/Neptune/allfigs/fig_011.png\"></td><td style=\"padding: 0;\"><img src=\"http://127.0.0.1:8888/notebooks/user_data/data/donutfrequency/Neptune/allfigs/fig_018.png\"></td><td style=\"padding: 0;\"><img src=\"http://127.0.0.1:8888/notebooks/user_data/data/donutfrequency/Neptune/allfigs/fig_025.png\"></td><td style=\"padding: 0;\"><img src=\"http://127.0.0.1:8888/notebooks/user_data/data/donutfrequency/Neptune/allfigs/fig_032.png\"></td><td style=\"padding: 0;\"><img src=\"http://127.0.0.1:8888/notebooks/user_data/data/donutfrequency/Neptune/allfigs/fig_039.png\"></td><td style=\"padding: 0;\"><img src=\"http://127.0.0.1:8888/notebooks/user_data/data/donutfrequency/Neptune/allfigs/fig_046.png\"></td><td style=\"padding: 0;\"><img src=\"http://127.0.0.1:8888/notebooks/user_data/data/donutfrequency/Neptune/allfigs/fig_053.png\"></td></tr><tr><td style=\"padding: 0;\"><img src=\"http://127.0.0.1:8888/notebooks/user_data/data/donutfrequency/Neptune/allfigs/fig_005.png\"></td><td style=\"padding: 0;\"><img src=\"http://127.0.0.1:8888/notebooks/user_data/data/donutfrequency/Neptune/allfigs/fig_012.png\"></td><td style=\"padding: 0;\"><img src=\"http://127.0.0.1:8888/notebooks/user_data/data/donutfrequency/Neptune/allfigs/fig_019.png\"></td><td style=\"padding: 0;\"><img src=\"http://127.0.0.1:8888/notebooks/user_data/data/donutfrequency/Neptune/allfigs/fig_026.png\"></td><td style=\"padding: 0;\"><img src=\"http://127.0.0.1:8888/notebooks/user_data/data/donutfrequency/Neptune/allfigs/fig_033.png\"></td><td style=\"padding: 0;\"><img src=\"http://127.0.0.1:8888/notebooks/user_data/data/donutfrequency/Neptune/allfigs/fig_040.png\"></td><td style=\"padding: 0;\"><img src=\"http://127.0.0.1:8888/notebooks/user_data/data/donutfrequency/Neptune/allfigs/fig_047.png\"></td><td style=\"padding: 0;\"><img src=\"http://127.0.0.1:8888/notebooks/user_data/data/donutfrequency/Neptune/allfigs/fig_054.png\"></td></tr><tr><td style=\"padding: 0;\"><img src=\"http://127.0.0.1:8888/notebooks/user_data/data/donutfrequency/Neptune/allfigs/fig_006.png\"></td><td style=\"padding: 0;\"><img src=\"http://127.0.0.1:8888/notebooks/user_data/data/donutfrequency/Neptune/allfigs/fig_013.png\"></td><td style=\"padding: 0;\"><img src=\"http://127.0.0.1:8888/notebooks/user_data/data/donutfrequency/Neptune/allfigs/fig_020.png\"></td><td style=\"padding: 0;\"><img src=\"http://127.0.0.1:8888/notebooks/user_data/data/donutfrequency/Neptune/allfigs/fig_027.png\"></td><td style=\"padding: 0;\"><img src=\"http://127.0.0.1:8888/notebooks/user_data/data/donutfrequency/Neptune/allfigs/fig_034.png\"></td><td style=\"padding: 0;\"><img src=\"http://127.0.0.1:8888/notebooks/user_data/data/donutfrequency/Neptune/allfigs/fig_041.png\"></td><td style=\"padding: 0;\"><img src=\"http://127.0.0.1:8888/notebooks/user_data/data/donutfrequency/Neptune/allfigs/fig_048.png\"></td><td style=\"padding: 0;\"><img src=\"http://127.0.0.1:8888/notebooks/user_data/data/donutfrequency/Neptune/allfigs/fig_055.png\"></td></tr></table></body></html>"
      ],
      "text/plain": [
       "<IPython.core.display.HTML object>"
      ]
     },
     "execution_count": 43,
     "metadata": {},
     "output_type": "execute_result"
    }
   ],
   "source": [
    "HTML(figure)"
   ]
  }
 ],
 "metadata": {
  "celltoolbar": "Raw Cell Format",
  "kernelspec": {
   "display_name": "Python 3",
   "language": "python",
   "name": "python3"
  },
  "language_info": {
   "codemirror_mode": {
    "name": "ipython",
    "version": 3
   },
   "file_extension": ".py",
   "mimetype": "text/x-python",
   "name": "python",
   "nbconvert_exporter": "python",
   "pygments_lexer": "ipython3",
   "version": "3.5.3"
  }
 },
 "nbformat": 4,
 "nbformat_minor": 2
}
