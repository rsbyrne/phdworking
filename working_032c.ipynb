{
 "cells": [
  {
   "cell_type": "code",
   "execution_count": 50,
   "metadata": {},
   "outputs": [],
   "source": [
    "import numpy as np\n",
    "import math\n",
    "import underworld as uw\n",
    "\n",
    "from mpi4py import MPI\n",
    "comm = MPI.COMM_WORLD\n",
    "rank = comm.Get_rank()\n",
    "nProcs = comm.Get_size()\n",
    "\n",
    "def get_pureBoxDims(coordArray):\n",
    "    pureBoxDims = ((0., 1.),) * coordArray.shape[1]\n",
    "    return pureBoxDims\n",
    "\n",
    "def get_pureFreqs(coordArray):\n",
    "    pureFreqs = tuple([1. for dim in range(coordArray.shape[1])])\n",
    "    return pureFreqs\n",
    "\n",
    "def boundary_interpolate(fromData, toData, dim):\n",
    "    # NOT PARALLEL SAFE\n",
    "\n",
    "    assert nProcs == 1\n",
    "\n",
    "    fromField, fromMesh, fromIndexSet = fromData\n",
    "    comp = 0\n",
    "    outArrs = []\n",
    "    while comp < dim:\n",
    "        coordSet = fromMesh.data[fromIndexSet]\n",
    "        previousCoord = coordSet[0]\n",
    "        cumulativeDistance = 0.\n",
    "        fromPositions = []\n",
    "        fromValues = []\n",
    "        for index, currentCoord in enumerate(coordSet):\n",
    "            cumulativeDistance += math.hypot(\n",
    "                currentCoord[0] - previousCoord[0],\n",
    "                currentCoord[1] - previousCoord[1]\n",
    "                )\n",
    "            value = fromField.data[list(fromIndexSet)[index]][comp]\n",
    "            fromPositions.append(cumulativeDistance)\n",
    "            fromValues.append(value)\n",
    "            previousCoord = currentCoord\n",
    "\n",
    "        toField, toMesh, toIndexSet = toData\n",
    "        coordSet = toMesh.data[toIndexSet]\n",
    "        previousCoord = coordSet[0]\n",
    "        cumulativeDistance = 0.\n",
    "        toPositions = []\n",
    "        for index, currentCoord in enumerate(coordSet):\n",
    "            cumulativeDistance += math.hypot(\n",
    "                currentCoord[0] - previousCoord[0],\n",
    "                currentCoord[1] - previousCoord[1]\n",
    "                )\n",
    "            toPositions.append(cumulativeDistance)\n",
    "            previousCoord = currentCoord\n",
    "\n",
    "        toValues = np.interp(toPositions, fromPositions, fromValues)\n",
    "        outArrs.append(toValues)\n",
    "        comp += 1\n",
    "\n",
    "    outArr = np.dstack(outArrs)\n",
    "\n",
    "    toField.data[toIndexSet] = outArr\n",
    "\n",
    "def get_scales(variable, partitioned = False):\n",
    "    scales = []\n",
    "    if type(variable) == np.ndarray:\n",
    "        data = variable\n",
    "    else:\n",
    "        data = variable.data\n",
    "    if partitioned:\n",
    "        data = comm.gather(data, root = 0)\n",
    "    if rank == 0:\n",
    "        data = np.vstack(data)\n",
    "        for i in range(data.shape[1]):\n",
    "            scales.append(\n",
    "                [data[:,i].min(),\n",
    "                data[:,i].max()]\n",
    "                )\n",
    "    scales = comm.bcast(scales, root = 0)\n",
    "    return scales\n",
    "\n",
    "def recentered_coords(\n",
    "        coordArray,\n",
    "        origin = (0., 0.),\n",
    "        inverse = False,\n",
    "        ):\n",
    "\n",
    "    if not inverse:\n",
    "        outArray = coordArray - origin\n",
    "    else:\n",
    "        outArray = coordArray + origin\n",
    "\n",
    "    return outArray\n",
    "\n",
    "def radial_coords(\n",
    "        coordArray,\n",
    "        origin = (0., 0.),\n",
    "        inverse = False,\n",
    "        ):\n",
    "\n",
    "    recenteredCoords = recentered_coords(coordArray, origin, inverse)\n",
    "\n",
    "    if not inverse:\n",
    "        xs, ys = recenteredCoords.transpose()\n",
    "        angular = np.arctan2(ys, xs) * 180. / np.pi\n",
    "        angular = np.where(angular >= 0., angular, angular + 360.)\n",
    "        radial = np.hypot(xs, ys)\n",
    "        outArray = np.dstack((angular, radial))[0]\n",
    "\n",
    "    else:\n",
    "        angular, radial = recenteredCoords.transpose()\n",
    "        xs = radial * np.cos(angular * np.pi / 180.)\n",
    "        ys = radial * np.sin(angular * np.pi / 180.)\n",
    "        outArray = np.dstack((xs, ys))[0]\n",
    "\n",
    "    return outArray\n",
    "\n",
    "def rescale_array(\n",
    "        inArray,\n",
    "        inScales,\n",
    "        outScales,\n",
    "        flip = None,\n",
    "        ):\n",
    "\n",
    "    transposed = inArray.transpose()\n",
    "    outVals = []\n",
    "    for nD in range(len(transposed)):\n",
    "        vals = transposed[nD]\n",
    "        inScale = inScales[nD]\n",
    "        outScale = outScales[nD]\n",
    "        inRange = inScale[1] - inScale[0]\n",
    "        outRange = outScale[1] - outScale[0]\n",
    "        inMin, inMax = inScale\n",
    "        outMin, outMax = outScale\n",
    "        vals = ((vals - inMin) / inRange)\n",
    "        if not flip == None:\n",
    "            if flip[nD]:\n",
    "                vals = 1. - vals\n",
    "        vals = vals * outRange + outMin\n",
    "        vals = np.clip(vals, outMin, outMax)\n",
    "        outVals.append(vals)\n",
    "    outArray = np.dstack(outVals)[0]\n",
    "    return outArray\n",
    "\n",
    "def modulate(\n",
    "        coordArray,\n",
    "        boxDims = None,\n",
    "        freqs = None,\n",
    "        mirrored = None,\n",
    "        ):\n",
    "\n",
    "    pureBoxDims = get_pureBoxDims(coordArray)\n",
    "\n",
    "    if boxDims is None:\n",
    "        boxDims = pureBoxDims\n",
    "\n",
    "    if freqs is None:\n",
    "        freqs = [1. for x in boxDims]\n",
    "    assert len(freqs) == len(boxDims)\n",
    "\n",
    "    outArray = coordArray.copy()\n",
    "\n",
    "    freqDims = (np.array(pureBoxDims).T * freqs).T\n",
    "    outArray = rescale_array(outArray, boxDims, freqDims)\n",
    "    outArray %= (1. + 1e-15)\n",
    "    outArray = rescale_array(outArray, pureBoxDims, boxDims)\n",
    "\n",
    "    if not mirrored is None:\n",
    "        assert len(mirrored) == len(boxDims)\n",
    "        multArr = [1. + int(boolean) for boolean in mirrored]\n",
    "        addArr = [1. * int(boolean) for boolean in mirrored]\n",
    "        outArray = rescale_array(outArray, boxDims, pureBoxDims)\n",
    "        outArray = abs(outArray * multArr - addArr)\n",
    "        outArray = rescale_array(outArray, pureBoxDims, boxDims)\n",
    "\n",
    "    return outArray\n",
    "\n",
    "def shrink_box(\n",
    "        coordArray,\n",
    "        boxDims = None,\n",
    "        tolerance = 0.01,\n",
    "        ):\n",
    "\n",
    "    pureBoxDims = get_pureBoxDims(coordArray)\n",
    "    if boxDims is None:\n",
    "        boxDims = pureBoxDims\n",
    "\n",
    "    # scale to unit box if necessary:\n",
    "    if not boxDims == pureBoxDims:\n",
    "        outBox = rescale_array(\n",
    "            coordArray,\n",
    "            boxDims,\n",
    "            pureBoxDims\n",
    "            )\n",
    "    else:\n",
    "        outBox = coordArray\n",
    "\n",
    "    # shrink the box to a specified tolerance:\n",
    "    adjBoxDims = ((0. + tolerance, 1. - tolerance),) * outBox.shape[1]\n",
    "    outBox = rescale_array(\n",
    "        outBox,\n",
    "        pureBoxDims,\n",
    "        adjBoxDims\n",
    "        )\n",
    "\n",
    "    # return box to original dimensions:\n",
    "    if not boxDims == pureBoxDims:\n",
    "        outBox = rescale_array(\n",
    "            outBox,\n",
    "            pureBoxDims,\n",
    "            boxDims\n",
    "            )\n",
    "\n",
    "    return outBox\n",
    "\n",
    "def box(\n",
    "        mesh,\n",
    "        coordArray = None,\n",
    "        boxDims = None,\n",
    "        freqs = None,\n",
    "        mirrored = None,\n",
    "        ):\n",
    "\n",
    "    if coordArray is None:\n",
    "        coordArray = mesh.data\n",
    "\n",
    "    if boxDims is None:\n",
    "        boxDims = get_pureBoxDims(coordArray)\n",
    "\n",
    "    if type(mesh) == uw.mesh.FeMesh_Annulus:\n",
    "        radialCoords = radial_coords(coordArray)\n",
    "        inScales = [mesh.angularExtent, mesh.radialLengths]\n",
    "        outScales = boxDims\n",
    "        outArray = rescale_array(\n",
    "            radialCoords,\n",
    "            inScales,\n",
    "            outScales,\n",
    "            flip = [True, False]\n",
    "            )\n",
    "    else:\n",
    "        outArray = rescale_array(\n",
    "            coordArray,\n",
    "            list(zip(mesh.minCoord, mesh.maxCoord)),\n",
    "            boxDims\n",
    "            )\n",
    "\n",
    "    if (not freqs is None) or (not mirrored is None):\n",
    "        outArray = modulate(\n",
    "            outArray,\n",
    "            boxDims,\n",
    "            freqs,\n",
    "            mirrored\n",
    "            )\n",
    "\n",
    "    return outArray\n",
    "\n",
    "def unbox(\n",
    "        mesh,\n",
    "        coordArray = None,\n",
    "        boxDims = None,\n",
    "        tolerance = 0.,\n",
    "        ):\n",
    "\n",
    "    if coordArray is None:\n",
    "        coordArray = mesh.data[:]\n",
    "    pureBoxDims = get_pureBoxDims(coordArray)\n",
    "    if boxDims is None:\n",
    "        boxDims = pureBoxDims\n",
    "\n",
    "    inBox = coordArray\n",
    "\n",
    "    if tolerance > 0.:\n",
    "        inBox = shrink_box(coordArray, boxDims, tolerance)\n",
    "    else:\n",
    "        inBox = coordArray\n",
    "\n",
    "    outBoxDims = (mesh.angularExtent, mesh.radialLengths)\n",
    "\n",
    "    outArray = radial_coords(\n",
    "        rescale_array(\n",
    "            inBox,\n",
    "            boxDims,\n",
    "            outBoxDims,\n",
    "            flip = [True, False]\n",
    "            ),\n",
    "        inverse = True\n",
    "        )\n",
    "\n",
    "    return outArray"
   ]
  },
  {
   "cell_type": "code",
   "execution_count": 77,
   "metadata": {},
   "outputs": [],
   "source": [
    "maximum = 1.\n",
    "testarr = np.array([[0. + 0.1 * x for x in range(11)], [0. + 0.1 * x for x in range(11)]]).T"
   ]
  },
  {
   "cell_type": "code",
   "execution_count": 78,
   "metadata": {
    "scrolled": true
   },
   "outputs": [
    {
     "data": {
      "text/plain": [
       "array([[ 0. ,  0. ],\n",
       "       [ 0.1,  0.1],\n",
       "       [ 0.2,  0.2],\n",
       "       [ 0.3,  0.3],\n",
       "       [ 0.4,  0.4],\n",
       "       [ 0.5,  0.5],\n",
       "       [ 0.6,  0.6],\n",
       "       [ 0.7,  0.7],\n",
       "       [ 0.8,  0.8],\n",
       "       [ 0.9,  0.9],\n",
       "       [ 1. ,  1. ]])"
      ]
     },
     "execution_count": 78,
     "metadata": {},
     "output_type": "execute_result"
    }
   ],
   "source": [
    "testarr"
   ]
  },
  {
   "cell_type": "code",
   "execution_count": 79,
   "metadata": {
    "scrolled": true
   },
   "outputs": [],
   "source": [
    "newarr = np.round(modulate(testarr, freqs = (2., 1.), mirrored = [True, False]), 2)"
   ]
  },
  {
   "cell_type": "code",
   "execution_count": 80,
   "metadata": {},
   "outputs": [
    {
     "data": {
      "text/plain": [
       "array([[ 1. ,  0. ],\n",
       "       [ 0.6,  0.1],\n",
       "       [ 0.2,  0.2],\n",
       "       [ 0.2,  0.3],\n",
       "       [ 0.6,  0.4],\n",
       "       [ 1. ,  0.5],\n",
       "       [ 0.6,  0.6],\n",
       "       [ 0.2,  0.7],\n",
       "       [ 0.2,  0.8],\n",
       "       [ 0.6,  0.9],\n",
       "       [ 1. ,  1. ]])"
      ]
     },
     "execution_count": 80,
     "metadata": {},
     "output_type": "execute_result"
    }
   ],
   "source": [
    "newarr"
   ]
  },
  {
   "cell_type": "code",
   "execution_count": 95,
   "metadata": {},
   "outputs": [],
   "source": [
    "oldData = np.array([[round(0. + 0.1 * x, 2)] for x in range(11)])"
   ]
  },
  {
   "cell_type": "code",
   "execution_count": 102,
   "metadata": {},
   "outputs": [
    {
     "data": {
      "text/plain": [
       "array([[ 0. ],\n",
       "       [ 0.1],\n",
       "       [ 0.2],\n",
       "       [ 0.3],\n",
       "       [ 0.4],\n",
       "       [ 0.5],\n",
       "       [ 0.6],\n",
       "       [ 0.7],\n",
       "       [ 0.8],\n",
       "       [ 0.9],\n",
       "       [ 1. ]])"
      ]
     },
     "execution_count": 102,
     "metadata": {},
     "output_type": "execute_result"
    }
   ],
   "source": [
    "oldData"
   ]
  },
  {
   "cell_type": "code",
   "execution_count": 97,
   "metadata": {},
   "outputs": [],
   "source": [
    "newData = np.array([[round((0. + 0.1 * x)**0.1, 2)] for x in range(11)])"
   ]
  },
  {
   "cell_type": "code",
   "execution_count": 103,
   "metadata": {},
   "outputs": [
    {
     "data": {
      "text/plain": [
       "array([[ 0.  ],\n",
       "       [ 0.79],\n",
       "       [ 0.85],\n",
       "       [ 0.89],\n",
       "       [ 0.91],\n",
       "       [ 0.93],\n",
       "       [ 0.95],\n",
       "       [ 0.96],\n",
       "       [ 0.98],\n",
       "       [ 0.99],\n",
       "       [ 1.  ]])"
      ]
     },
     "execution_count": 103,
     "metadata": {},
     "output_type": "execute_result"
    }
   ],
   "source": [
    "newData"
   ]
  },
  {
   "cell_type": "code",
   "execution_count": 107,
   "metadata": {},
   "outputs": [
    {
     "data": {
      "text/plain": [
       "array([[ 0. ],\n",
       "       [ 0.1],\n",
       "       [ 0.2],\n",
       "       [ 0.3],\n",
       "       [ 0.4],\n",
       "       [ 0.5],\n",
       "       [ 0.6],\n",
       "       [ 0.7],\n",
       "       [ 0.8],\n",
       "       [ 0.9],\n",
       "       [ 1. ]])"
      ]
     },
     "execution_count": 107,
     "metadata": {},
     "output_type": "execute_result"
    }
   ],
   "source": [
    "blendweight = 0.\n",
    "np.sum(np.array([oldData, blendweight * newData]), axis = 0) / (blendweight + 1)"
   ]
  },
  {
   "cell_type": "code",
   "execution_count": 94,
   "metadata": {},
   "outputs": [
    {
     "ename": "TypeError",
     "evalue": "data type not understood",
     "output_type": "error",
     "traceback": [
      "\u001b[0;31m---------------------------------------------------------------------------\u001b[0m",
      "\u001b[0;31mTypeError\u001b[0m                                 Traceback (most recent call last)",
      "\u001b[0;32m<ipython-input-94-5db9cfdfed9a>\u001b[0m in \u001b[0;36m<module>\u001b[0;34m\u001b[0m\n\u001b[0;32m----> 1\u001b[0;31m \u001b[0mnp\u001b[0m\u001b[0;34m.\u001b[0m\u001b[0marray\u001b[0m\u001b[0;34m(\u001b[0m\u001b[0moldData\u001b[0m\u001b[0;34m,\u001b[0m \u001b[0mblendweight\u001b[0m \u001b[0;34m*\u001b[0m \u001b[0mnewData\u001b[0m\u001b[0;34m)\u001b[0m\u001b[0;34m\u001b[0m\u001b[0m\n\u001b[0m",
      "\u001b[0;31mTypeError\u001b[0m: data type not understood"
     ]
    }
   ],
   "source": [
    "np.array(oldData, blendweight * newData)"
   ]
  },
  {
   "cell_type": "code",
   "execution_count": 34,
   "metadata": {},
   "outputs": [
    {
     "data": {
      "text/plain": [
       "array([[ 1. ,  0. ],\n",
       "       [ 0.8,  0.1],\n",
       "       [ 0.6,  0.2],\n",
       "       [ 0.4,  0.3],\n",
       "       [ 0.2,  0.4],\n",
       "       [ 0. ,  0.5],\n",
       "       [ 0.2,  0.6],\n",
       "       [ 0.4,  0.7],\n",
       "       [ 0.6,  0.8],\n",
       "       [ 0.8,  0.9],\n",
       "       [ 1. ,  1. ]])"
      ]
     },
     "execution_count": 34,
     "metadata": {},
     "output_type": "execute_result"
    }
   ],
   "source": [
    "abs(testarr * [2., 1.] - [1., 0.])"
   ]
  },
  {
   "cell_type": "code",
   "execution_count": 27,
   "metadata": {},
   "outputs": [
    {
     "data": {
      "text/plain": [
       "array([[ 0. ],\n",
       "       [ 0.1],\n",
       "       [ 0.2],\n",
       "       [ 0.3],\n",
       "       [ 0.4],\n",
       "       [ 0.5],\n",
       "       [ 0.6],\n",
       "       [ 0.7],\n",
       "       [ 0.8],\n",
       "       [ 0.9],\n",
       "       [ 1. ]])"
      ]
     },
     "execution_count": 27,
     "metadata": {},
     "output_type": "execute_result"
    }
   ],
   "source": [
    "arr.copy()"
   ]
  },
  {
   "cell_type": "code",
   "execution_count": null,
   "metadata": {},
   "outputs": [],
   "source": []
  }
 ],
 "metadata": {
  "kernelspec": {
   "display_name": "Python 3",
   "language": "python",
   "name": "python3"
  },
  "language_info": {
   "codemirror_mode": {
    "name": "ipython",
    "version": 3
   },
   "file_extension": ".py",
   "mimetype": "text/x-python",
   "name": "python",
   "nbconvert_exporter": "python",
   "pygments_lexer": "ipython3",
   "version": "3.5.3"
  }
 },
 "nbformat": 4,
 "nbformat_minor": 2
}
