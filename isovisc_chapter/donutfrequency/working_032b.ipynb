{
 "cells": [
  {
   "cell_type": "code",
   "execution_count": 2,
   "metadata": {},
   "outputs": [],
   "source": []
  },
  {
   "cell_type": "code",
   "execution_count": 12,
   "metadata": {},
   "outputs": [],
   "source": [
    "import os\n",
    "from IPython.core.display import HTML\n",
    "\n",
    "def make_html(figsdir):\n",
    "    figsdir = os.path.join('/workspace/user_data', figsdir)\n",
    "    figpaths = []\n",
    "    for filename in sorted(os.listdir(figsdir)):\n",
    "        if os.path.splitext(filename)[1] == '.png':\n",
    "            newdir = os.path.join('http://127.0.0.1:8888/notebooks/user_data', figsdir)\n",
    "            newfigname = os.path.join(newdir, filename)\n",
    "            figpaths.append(newfigname)\n",
    "\n",
    "    def chunks(l, n):\n",
    "        \"\"\"Yield successive n-sized chunks from l.\"\"\"\n",
    "        for i in range(0, len(l), n):\n",
    "            yield l[i:i + n]\n",
    "\n",
    "    figsgrid = list(chunks(figpaths, 7))\n",
    "\n",
    "    figure = ''\n",
    "    rows = 7\n",
    "    cols = 8\n",
    "    figure += '<html>'\n",
    "    figure += '<head>'\n",
    "    figure += '<style>'\n",
    "    figure += '</style>'\n",
    "    figure += '</head>'\n",
    "    figure += '<body>'\n",
    "    figure += '<table style=\"border:1px solid black; border-collapse: collapse;\">'\n",
    "    for row in range(rows):\n",
    "        figure += '<tr>'\n",
    "        for col in range(cols):\n",
    "            figure += '<td style=\"padding: 0;\">'\n",
    "            figure += '<img src='\n",
    "            figure += '\"' + figsgrid[col][row] + '\"'\n",
    "            figure += '>'\n",
    "            figure += '</td>'\n",
    "        figure += '</tr>'\n",
    "    figure += '</table>'\n",
    "    figure += '</body>'\n",
    "    figure += '</html>'\n",
    "\n",
    "    HTML(figure)\n",
    "\n",
    "    return figure"
   ]
  },
  {
   "cell_type": "code",
   "execution_count": null,
   "metadata": {},
   "outputs": [],
   "source": []
  }
 ],
 "metadata": {
  "celltoolbar": "Raw Cell Format",
  "kernelspec": {
   "display_name": "Python 3",
   "language": "python",
   "name": "python3"
  },
  "language_info": {
   "codemirror_mode": {
    "name": "ipython",
    "version": 3
   },
   "file_extension": ".py",
   "mimetype": "text/x-python",
   "name": "python",
   "nbconvert_exporter": "python",
   "pygments_lexer": "ipython3",
   "version": "3.5.3"
  }
 },
 "nbformat": 4,
 "nbformat_minor": 2
}
