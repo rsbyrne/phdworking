{
 "cells": [
  {
   "cell_type": "code",
   "execution_count": 2,
   "metadata": {},
   "outputs": [],
   "source": [
    "import os"
   ]
  },
  {
   "cell_type": "code",
   "execution_count": 3,
   "metadata": {},
   "outputs": [],
   "source": [
    "# figsdir = '/workspace/user_data/data/donutfrequency/allfigs'\n",
    "figsdir = '/workspace/user_data/data/donutfrequency/allfigs32'\n",
    "figpaths = []\n",
    "for filename in sorted(os.listdir(figsdir)):\n",
    "    if os.path.splitext(filename)[1] == '.png':\n",
    "        newdir = 'http://127.0.0.1:8888/notebooks/user_data/data/donutfrequency/allfigs32'\n",
    "        newfigname = os.path.join(newdir, filename)\n",
    "        figpaths.append(newfigname)"
   ]
  },
  {
   "cell_type": "code",
   "execution_count": 4,
   "metadata": {
    "scrolled": true
   },
   "outputs": [
    {
     "data": {
      "text/plain": [
       "['http://127.0.0.1:8888/notebooks/user_data/data/donutfrequency/allfigs32/fig_000.png',\n",
       " 'http://127.0.0.1:8888/notebooks/user_data/data/donutfrequency/allfigs32/fig_001.png',\n",
       " 'http://127.0.0.1:8888/notebooks/user_data/data/donutfrequency/allfigs32/fig_002.png',\n",
       " 'http://127.0.0.1:8888/notebooks/user_data/data/donutfrequency/allfigs32/fig_003.png',\n",
       " 'http://127.0.0.1:8888/notebooks/user_data/data/donutfrequency/allfigs32/fig_004.png',\n",
       " 'http://127.0.0.1:8888/notebooks/user_data/data/donutfrequency/allfigs32/fig_005.png',\n",
       " 'http://127.0.0.1:8888/notebooks/user_data/data/donutfrequency/allfigs32/fig_006.png',\n",
       " 'http://127.0.0.1:8888/notebooks/user_data/data/donutfrequency/allfigs32/fig_007.png',\n",
       " 'http://127.0.0.1:8888/notebooks/user_data/data/donutfrequency/allfigs32/fig_008.png',\n",
       " 'http://127.0.0.1:8888/notebooks/user_data/data/donutfrequency/allfigs32/fig_009.png',\n",
       " 'http://127.0.0.1:8888/notebooks/user_data/data/donutfrequency/allfigs32/fig_010.png',\n",
       " 'http://127.0.0.1:8888/notebooks/user_data/data/donutfrequency/allfigs32/fig_011.png',\n",
       " 'http://127.0.0.1:8888/notebooks/user_data/data/donutfrequency/allfigs32/fig_012.png',\n",
       " 'http://127.0.0.1:8888/notebooks/user_data/data/donutfrequency/allfigs32/fig_013.png',\n",
       " 'http://127.0.0.1:8888/notebooks/user_data/data/donutfrequency/allfigs32/fig_014.png',\n",
       " 'http://127.0.0.1:8888/notebooks/user_data/data/donutfrequency/allfigs32/fig_015.png',\n",
       " 'http://127.0.0.1:8888/notebooks/user_data/data/donutfrequency/allfigs32/fig_016.png',\n",
       " 'http://127.0.0.1:8888/notebooks/user_data/data/donutfrequency/allfigs32/fig_017.png',\n",
       " 'http://127.0.0.1:8888/notebooks/user_data/data/donutfrequency/allfigs32/fig_018.png',\n",
       " 'http://127.0.0.1:8888/notebooks/user_data/data/donutfrequency/allfigs32/fig_019.png',\n",
       " 'http://127.0.0.1:8888/notebooks/user_data/data/donutfrequency/allfigs32/fig_020.png',\n",
       " 'http://127.0.0.1:8888/notebooks/user_data/data/donutfrequency/allfigs32/fig_021.png',\n",
       " 'http://127.0.0.1:8888/notebooks/user_data/data/donutfrequency/allfigs32/fig_022.png',\n",
       " 'http://127.0.0.1:8888/notebooks/user_data/data/donutfrequency/allfigs32/fig_023.png',\n",
       " 'http://127.0.0.1:8888/notebooks/user_data/data/donutfrequency/allfigs32/fig_024.png',\n",
       " 'http://127.0.0.1:8888/notebooks/user_data/data/donutfrequency/allfigs32/fig_025.png',\n",
       " 'http://127.0.0.1:8888/notebooks/user_data/data/donutfrequency/allfigs32/fig_026.png',\n",
       " 'http://127.0.0.1:8888/notebooks/user_data/data/donutfrequency/allfigs32/fig_027.png',\n",
       " 'http://127.0.0.1:8888/notebooks/user_data/data/donutfrequency/allfigs32/fig_028.png',\n",
       " 'http://127.0.0.1:8888/notebooks/user_data/data/donutfrequency/allfigs32/fig_029.png',\n",
       " 'http://127.0.0.1:8888/notebooks/user_data/data/donutfrequency/allfigs32/fig_030.png',\n",
       " 'http://127.0.0.1:8888/notebooks/user_data/data/donutfrequency/allfigs32/fig_031.png',\n",
       " 'http://127.0.0.1:8888/notebooks/user_data/data/donutfrequency/allfigs32/fig_032.png',\n",
       " 'http://127.0.0.1:8888/notebooks/user_data/data/donutfrequency/allfigs32/fig_033.png',\n",
       " 'http://127.0.0.1:8888/notebooks/user_data/data/donutfrequency/allfigs32/fig_034.png',\n",
       " 'http://127.0.0.1:8888/notebooks/user_data/data/donutfrequency/allfigs32/fig_035.png',\n",
       " 'http://127.0.0.1:8888/notebooks/user_data/data/donutfrequency/allfigs32/fig_036.png',\n",
       " 'http://127.0.0.1:8888/notebooks/user_data/data/donutfrequency/allfigs32/fig_037.png',\n",
       " 'http://127.0.0.1:8888/notebooks/user_data/data/donutfrequency/allfigs32/fig_038.png',\n",
       " 'http://127.0.0.1:8888/notebooks/user_data/data/donutfrequency/allfigs32/fig_039.png',\n",
       " 'http://127.0.0.1:8888/notebooks/user_data/data/donutfrequency/allfigs32/fig_040.png',\n",
       " 'http://127.0.0.1:8888/notebooks/user_data/data/donutfrequency/allfigs32/fig_041.png',\n",
       " 'http://127.0.0.1:8888/notebooks/user_data/data/donutfrequency/allfigs32/fig_042.png',\n",
       " 'http://127.0.0.1:8888/notebooks/user_data/data/donutfrequency/allfigs32/fig_043.png',\n",
       " 'http://127.0.0.1:8888/notebooks/user_data/data/donutfrequency/allfigs32/fig_044.png',\n",
       " 'http://127.0.0.1:8888/notebooks/user_data/data/donutfrequency/allfigs32/fig_045.png',\n",
       " 'http://127.0.0.1:8888/notebooks/user_data/data/donutfrequency/allfigs32/fig_046.png',\n",
       " 'http://127.0.0.1:8888/notebooks/user_data/data/donutfrequency/allfigs32/fig_047.png',\n",
       " 'http://127.0.0.1:8888/notebooks/user_data/data/donutfrequency/allfigs32/fig_048.png',\n",
       " 'http://127.0.0.1:8888/notebooks/user_data/data/donutfrequency/allfigs32/fig_049.png',\n",
       " 'http://127.0.0.1:8888/notebooks/user_data/data/donutfrequency/allfigs32/fig_050.png',\n",
       " 'http://127.0.0.1:8888/notebooks/user_data/data/donutfrequency/allfigs32/fig_051.png',\n",
       " 'http://127.0.0.1:8888/notebooks/user_data/data/donutfrequency/allfigs32/fig_052.png',\n",
       " 'http://127.0.0.1:8888/notebooks/user_data/data/donutfrequency/allfigs32/fig_053.png',\n",
       " 'http://127.0.0.1:8888/notebooks/user_data/data/donutfrequency/allfigs32/fig_054.png',\n",
       " 'http://127.0.0.1:8888/notebooks/user_data/data/donutfrequency/allfigs32/fig_055.png']"
      ]
     },
     "execution_count": 4,
     "metadata": {},
     "output_type": "execute_result"
    }
   ],
   "source": [
    "figpaths"
   ]
  },
  {
   "cell_type": "code",
   "execution_count": 5,
   "metadata": {},
   "outputs": [],
   "source": [
    "def chunks(l, n):\n",
    "    \"\"\"Yield successive n-sized chunks from l.\"\"\"\n",
    "    for i in range(0, len(l), n):\n",
    "        yield l[i:i + n]\n",
    "figsgrid = list(chunks(figpaths, 7))"
   ]
  },
  {
   "cell_type": "code",
   "execution_count": 6,
   "metadata": {},
   "outputs": [],
   "source": [
    "figure = ''\n",
    "rows = 7\n",
    "cols = 8\n",
    "figure += '<html>'\n",
    "figure += '<head>'\n",
    "figure += '<style>'\n",
    "figure += '</style>'\n",
    "figure += '</head>'\n",
    "figure += '<body>'\n",
    "figure += '<table style=\"border:1px solid black; border-collapse: collapse;\">'\n",
    "for row in range(rows):\n",
    "    figure += '<tr>'\n",
    "    for col in range(cols):\n",
    "        figure += '<td style=\"padding: 0;\">'\n",
    "        figure += '<img src='\n",
    "        figure += '\"' + figsgrid[col][row] + '\"'\n",
    "        figure += '>'\n",
    "        figure += '</td>'\n",
    "    figure += '</tr>'\n",
    "figure += '</table>'\n",
    "figure += '</body>'\n",
    "figure += '</html>'"
   ]
  },
  {
   "cell_type": "code",
   "execution_count": 7,
   "metadata": {
    "scrolled": true
   },
   "outputs": [
    {
     "data": {
      "text/plain": [
       "'<html><head><style></style></head><body><table style=\"border:1px solid black; border-collapse: collapse;\"><tr><td style=\"padding: 0;\"><img src=\"http://127.0.0.1:8888/notebooks/user_data/data/donutfrequency/allfigs32/fig_000.png\"></td><td style=\"padding: 0;\"><img src=\"http://127.0.0.1:8888/notebooks/user_data/data/donutfrequency/allfigs32/fig_007.png\"></td><td style=\"padding: 0;\"><img src=\"http://127.0.0.1:8888/notebooks/user_data/data/donutfrequency/allfigs32/fig_014.png\"></td><td style=\"padding: 0;\"><img src=\"http://127.0.0.1:8888/notebooks/user_data/data/donutfrequency/allfigs32/fig_021.png\"></td><td style=\"padding: 0;\"><img src=\"http://127.0.0.1:8888/notebooks/user_data/data/donutfrequency/allfigs32/fig_028.png\"></td><td style=\"padding: 0;\"><img src=\"http://127.0.0.1:8888/notebooks/user_data/data/donutfrequency/allfigs32/fig_035.png\"></td><td style=\"padding: 0;\"><img src=\"http://127.0.0.1:8888/notebooks/user_data/data/donutfrequency/allfigs32/fig_042.png\"></td><td style=\"padding: 0;\"><img src=\"http://127.0.0.1:8888/notebooks/user_data/data/donutfrequency/allfigs32/fig_049.png\"></td></tr><tr><td style=\"padding: 0;\"><img src=\"http://127.0.0.1:8888/notebooks/user_data/data/donutfrequency/allfigs32/fig_001.png\"></td><td style=\"padding: 0;\"><img src=\"http://127.0.0.1:8888/notebooks/user_data/data/donutfrequency/allfigs32/fig_008.png\"></td><td style=\"padding: 0;\"><img src=\"http://127.0.0.1:8888/notebooks/user_data/data/donutfrequency/allfigs32/fig_015.png\"></td><td style=\"padding: 0;\"><img src=\"http://127.0.0.1:8888/notebooks/user_data/data/donutfrequency/allfigs32/fig_022.png\"></td><td style=\"padding: 0;\"><img src=\"http://127.0.0.1:8888/notebooks/user_data/data/donutfrequency/allfigs32/fig_029.png\"></td><td style=\"padding: 0;\"><img src=\"http://127.0.0.1:8888/notebooks/user_data/data/donutfrequency/allfigs32/fig_036.png\"></td><td style=\"padding: 0;\"><img src=\"http://127.0.0.1:8888/notebooks/user_data/data/donutfrequency/allfigs32/fig_043.png\"></td><td style=\"padding: 0;\"><img src=\"http://127.0.0.1:8888/notebooks/user_data/data/donutfrequency/allfigs32/fig_050.png\"></td></tr><tr><td style=\"padding: 0;\"><img src=\"http://127.0.0.1:8888/notebooks/user_data/data/donutfrequency/allfigs32/fig_002.png\"></td><td style=\"padding: 0;\"><img src=\"http://127.0.0.1:8888/notebooks/user_data/data/donutfrequency/allfigs32/fig_009.png\"></td><td style=\"padding: 0;\"><img src=\"http://127.0.0.1:8888/notebooks/user_data/data/donutfrequency/allfigs32/fig_016.png\"></td><td style=\"padding: 0;\"><img src=\"http://127.0.0.1:8888/notebooks/user_data/data/donutfrequency/allfigs32/fig_023.png\"></td><td style=\"padding: 0;\"><img src=\"http://127.0.0.1:8888/notebooks/user_data/data/donutfrequency/allfigs32/fig_030.png\"></td><td style=\"padding: 0;\"><img src=\"http://127.0.0.1:8888/notebooks/user_data/data/donutfrequency/allfigs32/fig_037.png\"></td><td style=\"padding: 0;\"><img src=\"http://127.0.0.1:8888/notebooks/user_data/data/donutfrequency/allfigs32/fig_044.png\"></td><td style=\"padding: 0;\"><img src=\"http://127.0.0.1:8888/notebooks/user_data/data/donutfrequency/allfigs32/fig_051.png\"></td></tr><tr><td style=\"padding: 0;\"><img src=\"http://127.0.0.1:8888/notebooks/user_data/data/donutfrequency/allfigs32/fig_003.png\"></td><td style=\"padding: 0;\"><img src=\"http://127.0.0.1:8888/notebooks/user_data/data/donutfrequency/allfigs32/fig_010.png\"></td><td style=\"padding: 0;\"><img src=\"http://127.0.0.1:8888/notebooks/user_data/data/donutfrequency/allfigs32/fig_017.png\"></td><td style=\"padding: 0;\"><img src=\"http://127.0.0.1:8888/notebooks/user_data/data/donutfrequency/allfigs32/fig_024.png\"></td><td style=\"padding: 0;\"><img src=\"http://127.0.0.1:8888/notebooks/user_data/data/donutfrequency/allfigs32/fig_031.png\"></td><td style=\"padding: 0;\"><img src=\"http://127.0.0.1:8888/notebooks/user_data/data/donutfrequency/allfigs32/fig_038.png\"></td><td style=\"padding: 0;\"><img src=\"http://127.0.0.1:8888/notebooks/user_data/data/donutfrequency/allfigs32/fig_045.png\"></td><td style=\"padding: 0;\"><img src=\"http://127.0.0.1:8888/notebooks/user_data/data/donutfrequency/allfigs32/fig_052.png\"></td></tr><tr><td style=\"padding: 0;\"><img src=\"http://127.0.0.1:8888/notebooks/user_data/data/donutfrequency/allfigs32/fig_004.png\"></td><td style=\"padding: 0;\"><img src=\"http://127.0.0.1:8888/notebooks/user_data/data/donutfrequency/allfigs32/fig_011.png\"></td><td style=\"padding: 0;\"><img src=\"http://127.0.0.1:8888/notebooks/user_data/data/donutfrequency/allfigs32/fig_018.png\"></td><td style=\"padding: 0;\"><img src=\"http://127.0.0.1:8888/notebooks/user_data/data/donutfrequency/allfigs32/fig_025.png\"></td><td style=\"padding: 0;\"><img src=\"http://127.0.0.1:8888/notebooks/user_data/data/donutfrequency/allfigs32/fig_032.png\"></td><td style=\"padding: 0;\"><img src=\"http://127.0.0.1:8888/notebooks/user_data/data/donutfrequency/allfigs32/fig_039.png\"></td><td style=\"padding: 0;\"><img src=\"http://127.0.0.1:8888/notebooks/user_data/data/donutfrequency/allfigs32/fig_046.png\"></td><td style=\"padding: 0;\"><img src=\"http://127.0.0.1:8888/notebooks/user_data/data/donutfrequency/allfigs32/fig_053.png\"></td></tr><tr><td style=\"padding: 0;\"><img src=\"http://127.0.0.1:8888/notebooks/user_data/data/donutfrequency/allfigs32/fig_005.png\"></td><td style=\"padding: 0;\"><img src=\"http://127.0.0.1:8888/notebooks/user_data/data/donutfrequency/allfigs32/fig_012.png\"></td><td style=\"padding: 0;\"><img src=\"http://127.0.0.1:8888/notebooks/user_data/data/donutfrequency/allfigs32/fig_019.png\"></td><td style=\"padding: 0;\"><img src=\"http://127.0.0.1:8888/notebooks/user_data/data/donutfrequency/allfigs32/fig_026.png\"></td><td style=\"padding: 0;\"><img src=\"http://127.0.0.1:8888/notebooks/user_data/data/donutfrequency/allfigs32/fig_033.png\"></td><td style=\"padding: 0;\"><img src=\"http://127.0.0.1:8888/notebooks/user_data/data/donutfrequency/allfigs32/fig_040.png\"></td><td style=\"padding: 0;\"><img src=\"http://127.0.0.1:8888/notebooks/user_data/data/donutfrequency/allfigs32/fig_047.png\"></td><td style=\"padding: 0;\"><img src=\"http://127.0.0.1:8888/notebooks/user_data/data/donutfrequency/allfigs32/fig_054.png\"></td></tr><tr><td style=\"padding: 0;\"><img src=\"http://127.0.0.1:8888/notebooks/user_data/data/donutfrequency/allfigs32/fig_006.png\"></td><td style=\"padding: 0;\"><img src=\"http://127.0.0.1:8888/notebooks/user_data/data/donutfrequency/allfigs32/fig_013.png\"></td><td style=\"padding: 0;\"><img src=\"http://127.0.0.1:8888/notebooks/user_data/data/donutfrequency/allfigs32/fig_020.png\"></td><td style=\"padding: 0;\"><img src=\"http://127.0.0.1:8888/notebooks/user_data/data/donutfrequency/allfigs32/fig_027.png\"></td><td style=\"padding: 0;\"><img src=\"http://127.0.0.1:8888/notebooks/user_data/data/donutfrequency/allfigs32/fig_034.png\"></td><td style=\"padding: 0;\"><img src=\"http://127.0.0.1:8888/notebooks/user_data/data/donutfrequency/allfigs32/fig_041.png\"></td><td style=\"padding: 0;\"><img src=\"http://127.0.0.1:8888/notebooks/user_data/data/donutfrequency/allfigs32/fig_048.png\"></td><td style=\"padding: 0;\"><img src=\"http://127.0.0.1:8888/notebooks/user_data/data/donutfrequency/allfigs32/fig_055.png\"></td></tr></table></body></html>'"
      ]
     },
     "execution_count": 7,
     "metadata": {},
     "output_type": "execute_result"
    }
   ],
   "source": [
    "figure"
   ]
  },
  {
   "cell_type": "code",
   "execution_count": 9,
   "metadata": {},
   "outputs": [],
   "source": [
    "from IPython.core.display import HTML"
   ]
  },
  {
   "cell_type": "code",
   "execution_count": 10,
   "metadata": {
    "scrolled": false
   },
   "outputs": [
    {
     "data": {
      "text/html": [
       "<html><head><style></style></head><body><table style=\"border:1px solid black; border-collapse: collapse;\"><tr><td style=\"padding: 0;\"><img src=\"http://127.0.0.1:8888/notebooks/user_data/data/donutfrequency/allfigs32/fig_000.png\"></td><td style=\"padding: 0;\"><img src=\"http://127.0.0.1:8888/notebooks/user_data/data/donutfrequency/allfigs32/fig_007.png\"></td><td style=\"padding: 0;\"><img src=\"http://127.0.0.1:8888/notebooks/user_data/data/donutfrequency/allfigs32/fig_014.png\"></td><td style=\"padding: 0;\"><img src=\"http://127.0.0.1:8888/notebooks/user_data/data/donutfrequency/allfigs32/fig_021.png\"></td><td style=\"padding: 0;\"><img src=\"http://127.0.0.1:8888/notebooks/user_data/data/donutfrequency/allfigs32/fig_028.png\"></td><td style=\"padding: 0;\"><img src=\"http://127.0.0.1:8888/notebooks/user_data/data/donutfrequency/allfigs32/fig_035.png\"></td><td style=\"padding: 0;\"><img src=\"http://127.0.0.1:8888/notebooks/user_data/data/donutfrequency/allfigs32/fig_042.png\"></td><td style=\"padding: 0;\"><img src=\"http://127.0.0.1:8888/notebooks/user_data/data/donutfrequency/allfigs32/fig_049.png\"></td></tr><tr><td style=\"padding: 0;\"><img src=\"http://127.0.0.1:8888/notebooks/user_data/data/donutfrequency/allfigs32/fig_001.png\"></td><td style=\"padding: 0;\"><img src=\"http://127.0.0.1:8888/notebooks/user_data/data/donutfrequency/allfigs32/fig_008.png\"></td><td style=\"padding: 0;\"><img src=\"http://127.0.0.1:8888/notebooks/user_data/data/donutfrequency/allfigs32/fig_015.png\"></td><td style=\"padding: 0;\"><img src=\"http://127.0.0.1:8888/notebooks/user_data/data/donutfrequency/allfigs32/fig_022.png\"></td><td style=\"padding: 0;\"><img src=\"http://127.0.0.1:8888/notebooks/user_data/data/donutfrequency/allfigs32/fig_029.png\"></td><td style=\"padding: 0;\"><img src=\"http://127.0.0.1:8888/notebooks/user_data/data/donutfrequency/allfigs32/fig_036.png\"></td><td style=\"padding: 0;\"><img src=\"http://127.0.0.1:8888/notebooks/user_data/data/donutfrequency/allfigs32/fig_043.png\"></td><td style=\"padding: 0;\"><img src=\"http://127.0.0.1:8888/notebooks/user_data/data/donutfrequency/allfigs32/fig_050.png\"></td></tr><tr><td style=\"padding: 0;\"><img src=\"http://127.0.0.1:8888/notebooks/user_data/data/donutfrequency/allfigs32/fig_002.png\"></td><td style=\"padding: 0;\"><img src=\"http://127.0.0.1:8888/notebooks/user_data/data/donutfrequency/allfigs32/fig_009.png\"></td><td style=\"padding: 0;\"><img src=\"http://127.0.0.1:8888/notebooks/user_data/data/donutfrequency/allfigs32/fig_016.png\"></td><td style=\"padding: 0;\"><img src=\"http://127.0.0.1:8888/notebooks/user_data/data/donutfrequency/allfigs32/fig_023.png\"></td><td style=\"padding: 0;\"><img src=\"http://127.0.0.1:8888/notebooks/user_data/data/donutfrequency/allfigs32/fig_030.png\"></td><td style=\"padding: 0;\"><img src=\"http://127.0.0.1:8888/notebooks/user_data/data/donutfrequency/allfigs32/fig_037.png\"></td><td style=\"padding: 0;\"><img src=\"http://127.0.0.1:8888/notebooks/user_data/data/donutfrequency/allfigs32/fig_044.png\"></td><td style=\"padding: 0;\"><img src=\"http://127.0.0.1:8888/notebooks/user_data/data/donutfrequency/allfigs32/fig_051.png\"></td></tr><tr><td style=\"padding: 0;\"><img src=\"http://127.0.0.1:8888/notebooks/user_data/data/donutfrequency/allfigs32/fig_003.png\"></td><td style=\"padding: 0;\"><img src=\"http://127.0.0.1:8888/notebooks/user_data/data/donutfrequency/allfigs32/fig_010.png\"></td><td style=\"padding: 0;\"><img src=\"http://127.0.0.1:8888/notebooks/user_data/data/donutfrequency/allfigs32/fig_017.png\"></td><td style=\"padding: 0;\"><img src=\"http://127.0.0.1:8888/notebooks/user_data/data/donutfrequency/allfigs32/fig_024.png\"></td><td style=\"padding: 0;\"><img src=\"http://127.0.0.1:8888/notebooks/user_data/data/donutfrequency/allfigs32/fig_031.png\"></td><td style=\"padding: 0;\"><img src=\"http://127.0.0.1:8888/notebooks/user_data/data/donutfrequency/allfigs32/fig_038.png\"></td><td style=\"padding: 0;\"><img src=\"http://127.0.0.1:8888/notebooks/user_data/data/donutfrequency/allfigs32/fig_045.png\"></td><td style=\"padding: 0;\"><img src=\"http://127.0.0.1:8888/notebooks/user_data/data/donutfrequency/allfigs32/fig_052.png\"></td></tr><tr><td style=\"padding: 0;\"><img src=\"http://127.0.0.1:8888/notebooks/user_data/data/donutfrequency/allfigs32/fig_004.png\"></td><td style=\"padding: 0;\"><img src=\"http://127.0.0.1:8888/notebooks/user_data/data/donutfrequency/allfigs32/fig_011.png\"></td><td style=\"padding: 0;\"><img src=\"http://127.0.0.1:8888/notebooks/user_data/data/donutfrequency/allfigs32/fig_018.png\"></td><td style=\"padding: 0;\"><img src=\"http://127.0.0.1:8888/notebooks/user_data/data/donutfrequency/allfigs32/fig_025.png\"></td><td style=\"padding: 0;\"><img src=\"http://127.0.0.1:8888/notebooks/user_data/data/donutfrequency/allfigs32/fig_032.png\"></td><td style=\"padding: 0;\"><img src=\"http://127.0.0.1:8888/notebooks/user_data/data/donutfrequency/allfigs32/fig_039.png\"></td><td style=\"padding: 0;\"><img src=\"http://127.0.0.1:8888/notebooks/user_data/data/donutfrequency/allfigs32/fig_046.png\"></td><td style=\"padding: 0;\"><img src=\"http://127.0.0.1:8888/notebooks/user_data/data/donutfrequency/allfigs32/fig_053.png\"></td></tr><tr><td style=\"padding: 0;\"><img src=\"http://127.0.0.1:8888/notebooks/user_data/data/donutfrequency/allfigs32/fig_005.png\"></td><td style=\"padding: 0;\"><img src=\"http://127.0.0.1:8888/notebooks/user_data/data/donutfrequency/allfigs32/fig_012.png\"></td><td style=\"padding: 0;\"><img src=\"http://127.0.0.1:8888/notebooks/user_data/data/donutfrequency/allfigs32/fig_019.png\"></td><td style=\"padding: 0;\"><img src=\"http://127.0.0.1:8888/notebooks/user_data/data/donutfrequency/allfigs32/fig_026.png\"></td><td style=\"padding: 0;\"><img src=\"http://127.0.0.1:8888/notebooks/user_data/data/donutfrequency/allfigs32/fig_033.png\"></td><td style=\"padding: 0;\"><img src=\"http://127.0.0.1:8888/notebooks/user_data/data/donutfrequency/allfigs32/fig_040.png\"></td><td style=\"padding: 0;\"><img src=\"http://127.0.0.1:8888/notebooks/user_data/data/donutfrequency/allfigs32/fig_047.png\"></td><td style=\"padding: 0;\"><img src=\"http://127.0.0.1:8888/notebooks/user_data/data/donutfrequency/allfigs32/fig_054.png\"></td></tr><tr><td style=\"padding: 0;\"><img src=\"http://127.0.0.1:8888/notebooks/user_data/data/donutfrequency/allfigs32/fig_006.png\"></td><td style=\"padding: 0;\"><img src=\"http://127.0.0.1:8888/notebooks/user_data/data/donutfrequency/allfigs32/fig_013.png\"></td><td style=\"padding: 0;\"><img src=\"http://127.0.0.1:8888/notebooks/user_data/data/donutfrequency/allfigs32/fig_020.png\"></td><td style=\"padding: 0;\"><img src=\"http://127.0.0.1:8888/notebooks/user_data/data/donutfrequency/allfigs32/fig_027.png\"></td><td style=\"padding: 0;\"><img src=\"http://127.0.0.1:8888/notebooks/user_data/data/donutfrequency/allfigs32/fig_034.png\"></td><td style=\"padding: 0;\"><img src=\"http://127.0.0.1:8888/notebooks/user_data/data/donutfrequency/allfigs32/fig_041.png\"></td><td style=\"padding: 0;\"><img src=\"http://127.0.0.1:8888/notebooks/user_data/data/donutfrequency/allfigs32/fig_048.png\"></td><td style=\"padding: 0;\"><img src=\"http://127.0.0.1:8888/notebooks/user_data/data/donutfrequency/allfigs32/fig_055.png\"></td></tr></table></body></html>"
      ],
      "text/plain": [
       "<IPython.core.display.HTML object>"
      ]
     },
     "execution_count": 10,
     "metadata": {},
     "output_type": "execute_result"
    }
   ],
   "source": [
    "HTML(figure)"
   ]
  },
  {
   "cell_type": "code",
   "execution_count": null,
   "metadata": {},
   "outputs": [],
   "source": []
  }
 ],
 "metadata": {
  "celltoolbar": "Raw Cell Format",
  "kernelspec": {
   "display_name": "Python 3",
   "language": "python",
   "name": "python3"
  },
  "language_info": {
   "codemirror_mode": {
    "name": "ipython",
    "version": 3
   },
   "file_extension": ".py",
   "mimetype": "text/x-python",
   "name": "python",
   "nbconvert_exporter": "python",
   "pygments_lexer": "ipython3",
   "version": "3.7.3"
  }
 },
 "nbformat": 4,
 "nbformat_minor": 2
}
