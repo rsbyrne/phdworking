{
 "cells": [
  {
   "cell_type": "code",
   "execution_count": 1,
   "metadata": {},
   "outputs": [],
   "source": [
    "import sys\n",
    "sys.path.append('/workspace/user_data')"
   ]
  },
  {
   "cell_type": "code",
   "execution_count": 2,
   "metadata": {},
   "outputs": [],
   "source": [
    "import modelscripts\n",
    "import planetengine"
   ]
  },
  {
   "cell_type": "code",
   "execution_count": 4,
   "metadata": {},
   "outputs": [],
   "source": [
    "chunks = 4"
   ]
  },
  {
   "cell_type": "code",
   "execution_count": 5,
   "metadata": {},
   "outputs": [],
   "source": [
    "suitelist = planetengine.utilities.suite_list({\n",
    "    'f': [0.2, 0.3, 0.4, 0.5, 0.6, 0.7, 0.8],\n",
    "    'Ra': [1e4, 2e4, 3e4, 4e4, 5e4, 6e4, 7e4],\n",
    "    }, shuffle = True, chunks = chunks)"
   ]
  },
  {
   "cell_type": "code",
   "execution_count": 12,
   "metadata": {},
   "outputs": [
    {
     "data": {
      "text/plain": [
       "[{'Ra': 60000.0, 'f': 0.4},\n",
       " {'Ra': 60000.0, 'f': 0.2},\n",
       " {'Ra': 30000.0, 'f': 0.6},\n",
       " {'Ra': 50000.0, 'f': 0.8},\n",
       " {'Ra': 50000.0, 'f': 0.6},\n",
       " {'Ra': 70000.0, 'f': 0.2},\n",
       " {'Ra': 40000.0, 'f': 0.6},\n",
       " {'Ra': 60000.0, 'f': 0.3},\n",
       " {'Ra': 50000.0, 'f': 0.3},\n",
       " {'Ra': 70000.0, 'f': 0.6},\n",
       " {'Ra': 50000.0, 'f': 0.7},\n",
       " {'Ra': 50000.0, 'f': 0.2}]"
      ]
     },
     "execution_count": 12,
     "metadata": {},
     "output_type": "execute_result"
    }
   ],
   "source": [
    "suitelist[3]"
   ]
  },
  {
   "cell_type": "code",
   "execution_count": null,
   "metadata": {},
   "outputs": [],
   "source": []
  }
 ],
 "metadata": {
  "kernelspec": {
   "display_name": "Python 3",
   "language": "python",
   "name": "python3"
  },
  "language_info": {
   "codemirror_mode": {
    "name": "ipython",
    "version": 3
   },
   "file_extension": ".py",
   "mimetype": "text/x-python",
   "name": "python",
   "nbconvert_exporter": "python",
   "pygments_lexer": "ipython3",
   "version": "3.5.3"
  }
 },
 "nbformat": 4,
 "nbformat_minor": 2
}
