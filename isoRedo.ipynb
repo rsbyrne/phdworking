{
 "cells": [
  {
   "cell_type": "code",
   "execution_count": null,
   "metadata": {},
   "outputs": [
    {
     "name": "stdout",
     "output_type": "stream",
     "text": [
      "Checkpointing...\n",
      "Saving figures...\n",
      "Saved.\n",
      "Saving vars of state...\n",
      "Saved.\n",
      "Saving snapshot...\n",
      "Saved.\n",
      "Saving datasets...\n",
      "Saved.\n",
      "Checkpointed!\n",
      "Running...\n"
     ]
    }
   ],
   "source": [
    "import planetengine\n",
    "from modelscripts import isovisc_systemscript as systemscript\n",
    "from modelscripts import isovisc_observerscript as handlerscript\n",
    "from modelscripts import sinusinglephase_initialscript as initialscript\n",
    "import sys\n",
    "import os\n",
    "\n",
    "#outputPath = os.path.join(os.path.dirname(os.path.realpath(__file__)), 'data')\n",
    "outputPath = os.path.join('../data')\n",
    "\n",
    "#inputarg = int(sys.argv[1])\n",
    "inputarg = 0\n",
    "\n",
    "suite_list = planetengine.utilities.suite_list({\n",
    "    'res': [32, 64, 128],\n",
    "    'Ra': [1e5, 1e6, 1e7],\n",
    "    'ratio': [0.5, 0.6, 0.7, 0.8, 0.9, 1.0]\n",
    "    })\n",
    "\n",
    "model = planetengine.frame.Frame(\n",
    "    systemscript.build(**suite_list[inputarg]),\n",
    "    handlerscript.build(),\n",
    "    initialscript.build(),\n",
    "    outputPath = outputPath,\n",
    "    instanceID = \"isobench\" + str(inputarg).zfill(3)\n",
    "    )\n",
    "\n",
    "checkpointCondition = lambda: any([\n",
    "    model.status == 'pre-traverse',\n",
    "    model.step % 1000 == 0,\n",
    "    model.status == 'post-traverse',\n",
    "    ])\n",
    "collectCondition = lambda: model.step % 10 == 0\n",
    "stopCondition = lambda: model.step >= 1000000\n",
    "\n",
    "model.traverse(stopCondition, collectCondition, checkpointCondition)"
   ]
  },
  {
   "cell_type": "code",
   "execution_count": null,
   "metadata": {},
   "outputs": [],
   "source": []
  }
 ],
 "metadata": {
  "kernelspec": {
   "display_name": "Python 3",
   "language": "python",
   "name": "python3"
  },
  "language_info": {
   "codemirror_mode": {
    "name": "ipython",
    "version": 3
   },
   "file_extension": ".py",
   "mimetype": "text/x-python",
   "name": "python",
   "nbconvert_exporter": "python",
   "pygments_lexer": "ipython3",
   "version": "3.5.3"
  }
 },
 "nbformat": 4,
 "nbformat_minor": 2
}
