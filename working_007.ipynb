{
 "cells": [
  {
   "cell_type": "code",
   "execution_count": 4,
   "metadata": {},
   "outputs": [
    {
     "name": "stdout",
     "output_type": "stream",
     "text": [
      "Checkpointing...\n",
      "Saving figures...\n",
      "Saved.\n",
      "Saving vars of state...\n",
      "Saved.\n",
      "Saving snapshot...\n",
      "Saved.\n",
      "Saving stamps...\n",
      "Saved.\n",
      "Saving datasets...\n",
      "Saved.\n",
      "Checkpointed!\n",
      "Running...\n",
      "Done!\n",
      "Pre-existing directory for this model has been found. Continuing...\n",
      "Checkpointing...\n",
      "Saving figures...\n",
      "Saved.\n",
      "Saving vars of state...\n",
      "Saved.\n",
      "Saving snapshot...\n",
      "Saved.\n",
      "Saving stamps...\n",
      "Saved.\n",
      "Saving datasets...\n",
      "Saved.\n",
      "Checkpointed!\n"
     ]
    }
   ],
   "source": [
    "from planetengine import utilities\n",
    "from planetengine import frame\n",
    "from modelscripts import isovisc_systemscript as systemscript\n",
    "from modelscripts import isovisc_observerscript as observerscript\n",
    "from modelscripts import sinusinglephase_initialscript as initialscript\n",
    "import sys\n",
    "\n",
    "CHUNKS = 2 #int(sys.argv[1])\n",
    "CHUNKNO = 0 #int(sys.argv[2])\n",
    "JOBNO = 0 #int(sys.argv[3])\n",
    "RES = 32 #int(sys.argv[4])\n",
    "ASPECT = 1 #int(sys.argv[5])\n",
    "\n",
    "suite_list = utilities.suite_list({\n",
    "    'res': [RES],\n",
    "    'aspect': [ASPECT],\n",
    "    'Ra': [1e4, 1e5],\n",
    "    'f': [1., 0.9],\n",
    "    }, shuffle = True, chunks = CHUNKS)\n",
    "\n",
    "job = suite_list[CHUNKNO][JOBNO]\n",
    "\n",
    "model = frame.Frame(\n",
    "    systemscript.build(**job),\n",
    "    observerscript.build(),\n",
    "    initialscript.build(),\n",
    "    outputPath = 'data',\n",
    "    )\n",
    "\n",
    "checkpointCondition = lambda: any([\n",
    "    model.status == 'pre-traverse',\n",
    "    model.step % 1000 == 0,\n",
    "    model.status == 'post-traverse',\n",
    "    ])\n",
    "collectCondition = lambda: model.step % 10 == 0\n",
    "stopCondition = lambda: model.step > 0\n",
    "\n",
    "model.traverse(stopCondition, collectCondition, checkpointCondition)"
   ]
  },
  {
   "cell_type": "code",
   "execution_count": null,
   "metadata": {},
   "outputs": [],
   "source": []
  }
 ],
 "metadata": {
  "kernelspec": {
   "display_name": "Python 3",
   "language": "python",
   "name": "python3"
  },
  "language_info": {
   "codemirror_mode": {
    "name": "ipython",
    "version": 3
   },
   "file_extension": ".py",
   "mimetype": "text/x-python",
   "name": "python",
   "nbconvert_exporter": "python",
   "pygments_lexer": "ipython3",
   "version": "3.5.3"
  }
 },
 "nbformat": 4,
 "nbformat_minor": 2
}
