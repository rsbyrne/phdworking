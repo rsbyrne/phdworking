{
 "cells": [
  {
   "cell_type": "code",
   "execution_count": null,
   "metadata": {
    "scrolled": true
   },
   "outputs": [],
   "source": [
    "from planetengine.frame import make_frame\n",
    "from planetengine import initials\n",
    "from planetengine import shapes\n",
    "\n",
    "from modelscripts import isovisc_systemscript\n",
    "from modelscripts import isovisc_observerscript\n",
    "\n",
    "steps = 0\n",
    "res = 4\n",
    "\n",
    "outputPath = '' #'/workspace/user_data/data/tests'\n",
    "\n",
    "isovisc1 = make_frame(\n",
    "    isovisc_systemscript.build(res = 4 * res, Ra = 1e5, aspect = 2),\n",
    "    isovisc_observerscript.build(),\n",
    "    initials = {'temperatureField': {'IC': initials.sinusoidal.IC(freq = 2.)}},\n",
    "    outputPath = outputPath\n",
    "    )\n",
    "\n",
    "isovisc1.report()\n",
    "\n",
    "checkpointCondition = lambda: any([\n",
    "    isovisc1.status == 'pre-traverse',\n",
    "    isovisc1.status == 'post-traverse',\n",
    "    ])\n",
    "collectCondition = lambda: False\n",
    "stopCondition = lambda: isovisc1.step >= steps\n",
    "\n",
    "isovisc1.traverse(stopCondition, collectCondition, checkpointCondition)\n",
    "\n",
    "isovisc1.report()\n",
    "\n",
    "isovisc2 = make_frame(\n",
    "    isovisc_systemscript.build(res = 8 * res, Ra = 1e6, aspect = 2),\n",
    "    isovisc_observerscript.build(),\n",
    "    initials = {'temperatureField': \n",
    "        {'IC': initials.load.IC(isovisc1, 'temperatureField'), 'varBounds': [[0., 1.]]}\n",
    "        },\n",
    "    outputPath = outputPath\n",
    "    )\n",
    "\n",
    "isovisc2.report()\n",
    "\n",
    "checkpointCondition = lambda: any([\n",
    "    isovisc2.status == 'pre-traverse',\n",
    "    isovisc2.status == 'post-traverse',\n",
    "    ])\n",
    "collectCondition = lambda: False\n",
    "stopCondition = lambda: isovisc2.step >= steps\n",
    "\n",
    "isovisc2.traverse(stopCondition, collectCondition, checkpointCondition)\n",
    "\n",
    "isovisc2.report()\n",
    "\n",
    "isovisc3 = make_frame(\n",
    "    isovisc_systemscript.build(res = 16 * res, Ra = 1e7, aspect = 2),\n",
    "    isovisc_observerscript.build(),\n",
    "    initials = {'temperatureField': \n",
    "        {'IC': initials.load.IC(isovisc2, 'temperatureField'), 'varBounds': [[0., 1., '.', '.']]}\n",
    "        },\n",
    "    outputPath = outputPath\n",
    "    )\n",
    "\n",
    "isovisc3.report()\n",
    "\n",
    "checkpointCondition = lambda: any([\n",
    "    isovisc3.status == 'pre-traverse',\n",
    "    isovisc3.status == 'post-traverse',\n",
    "    ])\n",
    "collectCondition = lambda: False\n",
    "stopCondition = lambda: isovisc3.step >= steps\n",
    "\n",
    "isovisc3.traverse(stopCondition, collectCondition, checkpointCondition)\n",
    "\n",
    "isovisc3.report()\n",
    "\n",
    "from modelscripts import MS98_systemscript\n",
    "from modelscripts import MS98_observerscript\n",
    "\n",
    "MS98a = make_frame(\n",
    "    MS98_systemscript.build(res = 16 * res, Ra = 1e7, tau0 = 1e6, aspect = 2),\n",
    "    MS98_observerscript.build(),\n",
    "    initials = {'temperatureField': \n",
    "        {'IC': initials.load.IC(isovisc3, 'temperatureField'), 'varBounds': [[0., 1., '.', '.']]}\n",
    "        },\n",
    "    outputPath = outputPath\n",
    "    )\n",
    "\n",
    "MS98a.report()\n",
    "\n",
    "checkpointCondition = lambda: any([\n",
    "    MS98a.status == 'pre-traverse',\n",
    "    MS98a.step % 100 == 0,\n",
    "    MS98a.status == 'post-traverse',\n",
    "    ])\n",
    "collectCondition = lambda: MS98a.step % 10 == 0\n",
    "stopCondition = lambda: MS98a.step >= 6 * steps\n",
    "\n",
    "MS98a.traverse(stopCondition, collectCondition, checkpointCondition)\n",
    "\n",
    "MS98a.report()\n",
    "\n",
    "MS98b = make_frame(\n",
    "    MS98_systemscript.build(res = 32 * res, Ra = 1e7, tau0 = 1e6, aspect = 2.),\n",
    "    MS98_observerscript.build(),\n",
    "    initials = {'temperatureField': \n",
    "        {'IC': initials.load.IC(MS98a, 'temperatureField'), 'varBounds': [[0., 1., '.', '.']]}\n",
    "        },\n",
    "    outputPath = outputPath\n",
    "    )\n",
    "\n",
    "MS98b.report()\n",
    "\n",
    "checkpointCondition = lambda: any([\n",
    "    MS98b.status == 'pre-traverse',\n",
    "    MS98b.step % 100 == 0,\n",
    "    MS98b.status == 'post-traverse',\n",
    "    ])\n",
    "collectCondition = lambda: MS98b.step % 10 == 0\n",
    "stopCondition = lambda: MS98b.step >= 6 * steps\n",
    "\n",
    "MS98b.traverse(stopCondition, collectCondition, checkpointCondition)\n",
    "\n",
    "MS98b.report()\n",
    "\n",
    "from modelscripts import MS98X_systemscript\n",
    "from modelscripts import MS98X_observerscript\n",
    "\n",
    "MS98X = make_frame(\n",
    "    MS98X_systemscript.build(res = 32 * res, Ra = 1e7, tau = 1e6, heating = 0., aspect = 2),\n",
    "    MS98X_observerscript.build(),\n",
    "    initials = {\n",
    "        'temperatureField': {'IC': initials.load.IC(MS98b, 'temperatureField'), 'varBounds': [[0., 1., '.', '.']]},\n",
    "        'materialVar': {'IC': initials.extents.IC((1, shapes.trapezoid(longwidth = 0.3, lengthRatio = 0.9)))}\n",
    "        },\n",
    "    outputPath = outputPath\n",
    "    )\n",
    "\n",
    "MS98X.report()\n",
    "\n",
    "checkpointCondition = lambda: any([\n",
    "    MS98X.status == 'pre-traverse',\n",
    "    MS98X.step % 1000 == 0,\n",
    "    MS98X.status == 'post-traverse',\n",
    "    ])\n",
    "collectCondition = lambda: MS98X.step % 10 == 0\n",
    "stopCondition = lambda: MS98X.step >= 30 * steps\n",
    "\n",
    "MS98X.traverse(stopCondition, collectCondition, checkpointCondition)\n",
    "\n",
    "MS98X.report()"
   ]
  },
  {
   "cell_type": "code",
   "execution_count": null,
   "metadata": {},
   "outputs": [],
   "source": [
    "# %%sh\n",
    "\n",
    "# rm -rf pemod*\n",
    "# rm Figure_*"
   ]
  },
  {
   "cell_type": "code",
   "execution_count": null,
   "metadata": {},
   "outputs": [],
   "source": [
    "# %%sh\n",
    "\n",
    "# mpirun -np 8 python eastermodel2.py 2>/dev/null"
   ]
  },
  {
   "cell_type": "code",
   "execution_count": null,
   "metadata": {},
   "outputs": [],
   "source": [
    "import sys\n",
    "sys.path.append('..')"
   ]
  },
  {
   "cell_type": "code",
   "execution_count": null,
   "metadata": {},
   "outputs": [],
   "source": [
    "import planetengine"
   ]
  },
  {
   "cell_type": "code",
   "execution_count": null,
   "metadata": {
    "scrolled": true
   },
   "outputs": [],
   "source": [
    "model = planetengine.frame.load_frame('..', 'pemod_everest-recalcitrated', loadStep = 'max')"
   ]
  },
  {
   "cell_type": "code",
   "execution_count": null,
   "metadata": {},
   "outputs": [],
   "source": [
    "model.report()"
   ]
  },
  {
   "cell_type": "code",
   "execution_count": null,
   "metadata": {},
   "outputs": [],
   "source": [
    "MS98b = model"
   ]
  },
  {
   "cell_type": "code",
   "execution_count": null,
   "metadata": {},
   "outputs": [],
   "source": [
    "steps = 0\n",
    "res = 4"
   ]
  },
  {
   "cell_type": "code",
   "execution_count": null,
   "metadata": {},
   "outputs": [],
   "source": [
    "from modelscripts import MS98X_systemscript\n",
    "from modelscripts import MS98X_observerscript"
   ]
  },
  {
   "cell_type": "code",
   "execution_count": null,
   "metadata": {},
   "outputs": [],
   "source": [
    "outputPath = '..'"
   ]
  },
  {
   "cell_type": "code",
   "execution_count": null,
   "metadata": {
    "scrolled": true
   },
   "outputs": [],
   "source": [
    "MS98X = planetengine.frame.make_frame(\n",
    "    MS98X_systemscript.build(res = 32 * res, Ra = 1e7, tau = 1e6, heating = 0., aspect = 2),\n",
    "    MS98X_observerscript.build(),\n",
    "    initials = {\n",
    "        'temperatureField': {\n",
    "            'IC': planetengine.initials.load.IC(MS98b, 'temperatureField'),\n",
    "            'varBounds': [[0., 1., '.', '.']]\n",
    "            },\n",
    "        'materialVar': {\n",
    "            'IC': planetengine.initials.extents.IC(\n",
    "                (1, planetengine.shapes.trapezoid(longwidth = 0.3, lengthRatio = 0.9, thickness = 0.05))\n",
    "                )\n",
    "            }\n",
    "        },\n",
    "    outputPath = outputPath\n",
    "    )"
   ]
  },
  {
   "cell_type": "code",
   "execution_count": null,
   "metadata": {},
   "outputs": [],
   "source": [
    "MS98X.report()"
   ]
  },
  {
   "cell_type": "code",
   "execution_count": null,
   "metadata": {},
   "outputs": [],
   "source": [
    "MS98X.checkpoint()"
   ]
  },
  {
   "cell_type": "code",
   "execution_count": null,
   "metadata": {},
   "outputs": [],
   "source": [
    "checkpointCondition = lambda: any([\n",
    "    MS98X.status == 'pre-traverse',\n",
    "    MS98X.step % 1000 == 0,\n",
    "    MS98X.status == 'post-traverse',\n",
    "    ])\n",
    "collectCondition = lambda: MS98X.step % 10 == 0\n",
    "stopCondition = lambda: MS98X.step >= 30 * steps\n",
    "\n",
    "MS98X.traverse(stopCondition, collectCondition, checkpointCondition)"
   ]
  },
  {
   "cell_type": "code",
   "execution_count": null,
   "metadata": {},
   "outputs": [],
   "source": [
    "import os\n",
    "os.path.isfile('../pemod_everest-recalcitrated/_observerscript.py')"
   ]
  },
  {
   "cell_type": "code",
   "execution_count": null,
   "metadata": {},
   "outputs": [],
   "source": [
    "os.path.isfile('../pemod_everest-recalcitrated.tar.gz')"
   ]
  },
  {
   "cell_type": "code",
   "execution_count": null,
   "metadata": {},
   "outputs": [],
   "source": [
    "os.path.isdir('..')"
   ]
  },
  {
   "cell_type": "code",
   "execution_count": null,
   "metadata": {},
   "outputs": [],
   "source": [
    "MS98X.report()"
   ]
  }
 ],
 "metadata": {
  "kernelspec": {
   "display_name": "Python 3",
   "language": "python",
   "name": "python3"
  },
  "language_info": {
   "codemirror_mode": {
    "name": "ipython",
    "version": 3
   },
   "file_extension": ".py",
   "mimetype": "text/x-python",
   "name": "python",
   "nbconvert_exporter": "python",
   "pygments_lexer": "ipython3",
   "version": "3.5.3"
  }
 },
 "nbformat": 4,
 "nbformat_minor": 2
}
