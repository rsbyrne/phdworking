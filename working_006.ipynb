{
 "cells": [
  {
   "cell_type": "code",
   "execution_count": 1,
   "metadata": {},
   "outputs": [
    {
     "name": "stdout",
     "output_type": "stream",
     "text": [
      "Checkpointing...\n",
      "Saving figures...\n",
      "Saved.\n",
      "Saving vars of state...\n",
      "Saved.\n",
      "Saving snapshot...\n",
      "Saved.\n",
      "Saving stamps...\n",
      "Saved.\n",
      "Saving datasets...\n",
      "Saved.\n",
      "Checkpointed!\n",
      "Running...\n",
      "Done!\n",
      "Pre-existing directory for this model has been found. Continuing...\n",
      "Checkpointing...\n",
      "Saving figures...\n",
      "Saved.\n",
      "Saving vars of state...\n",
      "Saved.\n",
      "Saving snapshot...\n",
      "Saved.\n",
      "Saving stamps...\n",
      "Saved.\n",
      "Saving datasets...\n",
      "Saved.\n",
      "Checkpointed!\n"
     ]
    }
   ],
   "source": [
    "from planetengine import utilities\n",
    "from planetengine import frame\n",
    "from modelscripts import isovisc_systemscript as systemscript\n",
    "from modelscripts import isovisc_observerscript as observerscript\n",
    "from modelscripts import sinusinglephase_initialscript as initialscript\n",
    "import sys\n",
    "\n",
    "CHUNKS = 0\n",
    "JOBNO = 1\n",
    "RES = 16\n",
    "ASPECT = 1\n",
    "\n",
    "suite_list = utilities.suite_list({\n",
    "    'res': [RES,],\n",
    "    'aspect': [ASPECT,],\n",
    "    'Ra': [1e4],\n",
    "    'f': [1., 0.9, 0.8, 0.7],\n",
    "    }, shuffle = False, chunks = CHUNKS)\n",
    "\n",
    "chunk = suite_list[JOBNO]\n",
    "\n",
    "for job in chunk:\n",
    "\n",
    "    model = frame.Frame(\n",
    "        systemscript.build(**job),\n",
    "        observerscript.build(),\n",
    "        initialscript.build(freq=ASPECT),\n",
    "        outputPath = 'data',\n",
    "        instanceID = 'isovisc' + str(RES) + 'x' + str(int(ASPECT)) + '_' + str(JOBNO).zfill(4),\n",
    "        )\n",
    "\n",
    "    checkpointCondition = lambda: any([\n",
    "        model.status == 'pre-traverse',\n",
    "        model.step % 1000 == 0,\n",
    "        model.status == 'post-traverse',\n",
    "        ])\n",
    "    collectCondition = lambda: model.step % 10 == 0\n",
    "    stopCondition = lambda: model.step > 1\n",
    "\n",
    "    model.traverse(stopCondition, collectCondition, checkpointCondition)\n"
   ]
  },
  {
   "cell_type": "code",
   "execution_count": 72,
   "metadata": {},
   "outputs": [
    {
     "data": {
      "text/plain": [
       "{'Ra': 10000.0, 'aspect': 1.0, 'f': 1.0, 'res': 32}"
      ]
     },
     "execution_count": 72,
     "metadata": {},
     "output_type": "execute_result"
    }
   ],
   "source": [
    "suite_list = utilities.suite_list({\n",
    "    'res': [32,],\n",
    "    'aspect': [1.,],\n",
    "    'Ra': [1e4, 1e5],\n",
    "    'f': [1., 0.9],\n",
    "    }, shuffle = True)\n",
    "suite_list[0]"
   ]
  },
  {
   "cell_type": "code",
   "execution_count": 62,
   "metadata": {},
   "outputs": [
    {
     "name": "stdout",
     "output_type": "stream",
     "text": [
      "24 core nodes required:  8652.875\n"
     ]
    }
   ],
   "source": [
    "coreslist = []\n",
    "for row in suite_list:\n",
    "    cores = row['aspect'] * (row['res'] / 32)**2\n",
    "    coreslist.append(cores)\n",
    "print(\"24 core nodes required: \", sum(coreslist) / 24)"
   ]
  },
  {
   "cell_type": "code",
   "execution_count": null,
   "metadata": {},
   "outputs": [],
   "source": [
    "from planetengine import frame\n",
    "from modelscripts import MS98X_systemscript as systemscript\n",
    "from modelscripts import MS98X_observerscript as observerscript\n",
    "from modelscripts import sinudoublephase_initialscript as initialscript\n",
    "\n",
    "model = frame.Frame(\n",
    "    systemscript.build(res=16, aspect=10),\n",
    "    observerscript.build(),\n",
    "    initialscript.build(freq = 10., cont_width = 1. / 3.),\n",
    "    instanceID = 'testBIG'\n",
    "    )"
   ]
  },
  {
   "cell_type": "code",
   "execution_count": null,
   "metadata": {},
   "outputs": [],
   "source": [
    "model.report()"
   ]
  },
  {
   "cell_type": "code",
   "execution_count": null,
   "metadata": {},
   "outputs": [],
   "source": [
    "model.system.inputs"
   ]
  },
  {
   "cell_type": "code",
   "execution_count": null,
   "metadata": {},
   "outputs": [],
   "source": []
  }
 ],
 "metadata": {
  "kernelspec": {
   "display_name": "Python 3",
   "language": "python",
   "name": "python3"
  },
  "language_info": {
   "codemirror_mode": {
    "name": "ipython",
    "version": 3
   },
   "file_extension": ".py",
   "mimetype": "text/x-python",
   "name": "python",
   "nbconvert_exporter": "python",
   "pygments_lexer": "ipython3",
   "version": "3.5.3"
  }
 },
 "nbformat": 4,
 "nbformat_minor": 2
}
