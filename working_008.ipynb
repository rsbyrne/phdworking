{
 "cells": [
  {
   "cell_type": "code",
   "execution_count": 1,
   "metadata": {},
   "outputs": [],
   "source": [
    "from planetengine import utilities\n",
    "from planetengine import frame\n",
    "from modelscripts import isovisc_systemscript as systemscript\n",
    "from modelscripts import isovisc_observerscript as observerscript\n",
    "from modelscripts import sinusinglephase_initialscript as initialscript"
   ]
  },
  {
   "cell_type": "code",
   "execution_count": 2,
   "metadata": {},
   "outputs": [],
   "source": [
    "model = frame.Frame(\n",
    "    systemscript.build(res = 16, aspect = 1),\n",
    "    observerscript.build(),\n",
    "    initialscript.build(freq = 10, pert = 10.),\n",
    "    )"
   ]
  },
  {
   "cell_type": "code",
   "execution_count": null,
   "metadata": {},
   "outputs": [],
   "source": [
    "import tarfile\n",
    "import os"
   ]
  },
  {
   "cell_type": "code",
   "execution_count": null,
   "metadata": {},
   "outputs": [],
   "source": [
    "if not os.path.isdir('testdir'):\n",
    "    os.mkdir('testdir')\n",
    "with open('testdir/testa', 'w') as file:\n",
    "    file.write(\"Hello world!\")\n",
    "with open('testdir/testb', 'w') as file:\n",
    "    file.write(\"Foo!\")\n",
    "with open('testdir/testc', 'w') as file:\n",
    "    file.write(\"Boo!\")"
   ]
  },
  {
   "cell_type": "code",
   "execution_count": null,
   "metadata": {},
   "outputs": [],
   "source": [
    "tar = tarfile.open(\"testdir.tar.gz\", 'w:gz')\n",
    "tar.add(\"testdir\")\n",
    "tar.close()"
   ]
  },
  {
   "cell_type": "code",
   "execution_count": null,
   "metadata": {},
   "outputs": [],
   "source": [
    "with tarfile.open(\"testdir.tar.gz\", 'w:gz') as tar:\n",
    "    "
   ]
  }
 ],
 "metadata": {
  "kernelspec": {
   "display_name": "Python 3",
   "language": "python",
   "name": "python3"
  },
  "language_info": {
   "codemirror_mode": {
    "name": "ipython",
    "version": 3
   },
   "file_extension": ".py",
   "mimetype": "text/x-python",
   "name": "python",
   "nbconvert_exporter": "python",
   "pygments_lexer": "ipython3",
   "version": "3.5.3"
  }
 },
 "nbformat": 4,
 "nbformat_minor": 2
}
