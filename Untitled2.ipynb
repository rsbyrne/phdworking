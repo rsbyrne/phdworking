{
 "cells": [
  {
   "cell_type": "code",
   "execution_count": null,
   "metadata": {},
   "outputs": [],
   "source": [
    "import sys\n",
    "sys.path.append('..')"
   ]
  },
  {
   "cell_type": "code",
   "execution_count": null,
   "metadata": {},
   "outputs": [],
   "source": [
    "import planetengine\n",
    "import modelscripts"
   ]
  },
  {
   "cell_type": "code",
   "execution_count": null,
   "metadata": {},
   "outputs": [],
   "source": [
    "aspect = 1"
   ]
  },
  {
   "cell_type": "code",
   "execution_count": null,
   "metadata": {},
   "outputs": [],
   "source": [
    "isovisc1 = planetengine.frame.make_frame(\n",
    "    modelscripts.isovisc_systemscript.build(\n",
    "        res = 16,\n",
    "        Ra = 1e5,\n",
    "        aspect = aspect\n",
    "        ),\n",
    "    modelscripts.isovisc_observerscript.build(),\n",
    "    initial = {\n",
    "        'temperatureField': planetengine.initials.sinusoidal.IC(freq = aspect),\n",
    "        }\n",
    "    )"
   ]
  },
  {
   "cell_type": "code",
   "execution_count": null,
   "metadata": {
    "scrolled": true
   },
   "outputs": [],
   "source": [
    "isovisc1.go(10)"
   ]
  },
  {
   "cell_type": "code",
   "execution_count": null,
   "metadata": {
    "scrolled": false
   },
   "outputs": [],
   "source": [
    "isovisc2 = planetengine.frame.make_frame(\n",
    "    modelscripts.isovisc_systemscript.build(\n",
    "        res = 32,\n",
    "        Ra = 1e6,\n",
    "        aspect = aspect\n",
    "        ),\n",
    "    modelscripts.isovisc_observerscript.build(),\n",
    "    initial = {\n",
    "        'temperatureField': planetengine.initials.load.IC(isovisc1, 'temperatureField'),\n",
    "        }\n",
    "    )"
   ]
  },
  {
   "cell_type": "code",
   "execution_count": null,
   "metadata": {
    "scrolled": true
   },
   "outputs": [],
   "source": [
    "isovisc2.go(10)"
   ]
  },
  {
   "cell_type": "code",
   "execution_count": null,
   "metadata": {},
   "outputs": [],
   "source": [
    "isovisc3 = planetengine.frame.make_frame(\n",
    "    modelscripts.isovisc_systemscript.build(\n",
    "        res = 64,\n",
    "        Ra = 1e7,\n",
    "        aspect = aspect\n",
    "        ),\n",
    "    modelscripts.isovisc_observerscript.build(),\n",
    "    initial = {\n",
    "        'temperatureField': planetengine.initials.load.IC(isovisc2, 'temperatureField'),\n",
    "        }\n",
    "    )"
   ]
  },
  {
   "cell_type": "code",
   "execution_count": null,
   "metadata": {},
   "outputs": [],
   "source": [
    "isovisc3.go(10)"
   ]
  },
  {
   "cell_type": "code",
   "execution_count": null,
   "metadata": {},
   "outputs": [],
   "source": [
    "isovisc1.report()"
   ]
  },
  {
   "cell_type": "code",
   "execution_count": null,
   "metadata": {},
   "outputs": [],
   "source": [
    "MS98 = planetengine.frame.make_frame(\n",
    "    modelscripts.MS98_systemscript.build(\n",
    "        res = 64,\n",
    "        Ra = 1e7,\n",
    "        aspect = aspect,\n",
    "        tau = 1e6\n",
    "        ),\n",
    "    modelscripts.MS98_observerscript.build(),\n",
    "    initial = {\n",
    "        'temperatureField': planetengine.initials.load.IC(isovisc3, 'temperatureField'),\n",
    "        }\n",
    "    )"
   ]
  },
  {
   "cell_type": "code",
   "execution_count": null,
   "metadata": {},
   "outputs": [],
   "source": [
    "MS98.go(10)"
   ]
  },
  {
   "cell_type": "code",
   "execution_count": null,
   "metadata": {},
   "outputs": [],
   "source": [
    "MS98.report()"
   ]
  },
  {
   "cell_type": "code",
   "execution_count": null,
   "metadata": {},
   "outputs": [],
   "source": [
    "kitchensink = planetengine.frame.make_frame(\n",
    "    modelscripts.kitchensink_systemscript.build(\n",
    "        res = 128,\n",
    "        buoyancy_bR = 1e7,\n",
    "        aspect = aspect,\n",
    "        tau0 = 1e6,\n",
    "        heating = 0.\n",
    "        ),\n",
    "    modelscripts.kitchensink_observerscript.build(),\n",
    "    initial = {\n",
    "        'temperatureField': planetengine.initials.load.IC(MS98, 'temperatureField'),\n",
    "        'materialVar': planetengine.initials.extents.IC(\n",
    "            (1, planetengine.shapes.trapezoid(\n",
    "                thickness = 0.025,\n",
    "                longwidth = 1.,\n",
    "                lengthRatio = 1.\n",
    "                ))\n",
    "            )\n",
    "        }\n",
    "    )"
   ]
  },
  {
   "cell_type": "code",
   "execution_count": null,
   "metadata": {},
   "outputs": [],
   "source": [
    "stopCondition = lambda: kitchensink.step >= 10\n",
    "collectCondition = lambda: kitchensink.step % 10 == 0\n",
    "checkpointCondition = lambda: any([\n",
    "    kitchensink.status == 'pre-traverse',\n",
    "    kitchensink.step % 100 == 0,\n",
    "    kitchensink.status == 'post-traverse',\n",
    "    ])\n",
    "\n",
    "kitchensink.traverse(stopCondition, collectCondition, checkpointCondition)"
   ]
  }
 ],
 "metadata": {
  "kernelspec": {
   "display_name": "Python 3",
   "language": "python",
   "name": "python3"
  },
  "language_info": {
   "codemirror_mode": {
    "name": "ipython",
    "version": 3
   },
   "file_extension": ".py",
   "mimetype": "text/x-python",
   "name": "python",
   "nbconvert_exporter": "python",
   "pygments_lexer": "ipython3",
   "version": "3.5.3"
  }
 },
 "nbformat": 4,
 "nbformat_minor": 2
}
